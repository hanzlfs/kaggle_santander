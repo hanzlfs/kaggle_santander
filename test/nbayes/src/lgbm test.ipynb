{
 "cells": [
  {
   "cell_type": "code",
   "execution_count": 20,
   "metadata": {
    "collapsed": false
   },
   "outputs": [
    {
     "name": "stdout",
     "output_type": "stream",
     "text": [
      "It took 3 seconds to load the dataset\n",
      "It took 4 seconds to load the dataset\n",
      "It took 6 seconds to load the dataset\n",
      "It took 1 seconds to load the dataset\n",
      "(1375686, 1375686)\n",
      "(561234, 561234)\n"
     ]
    }
   ],
   "source": [
    "import numpy as np\n",
    "from sklearn.naive_bayes import BernoulliNB\n",
    "import time\n",
    "import gzip\n",
    "import warnings\n",
    "warnings.filterwarnings(\"ignore\")\n",
    "from sklearn.linear_model import LogisticRegression\n",
    "from dataset import SantanderDataset\n",
    "from average_precision import mapk\n",
    "from genetic_search import genetic_search\n",
    "import pandas as pd\n",
    "dataset_root = '../'\n",
    "dataset = SantanderDataset(dataset_root)"
   ]
  },
  {
   "cell_type": "code",
   "execution_count": 16,
   "metadata": {
    "collapsed": false
   },
   "outputs": [],
   "source": [
    "#Try training\n",
    "start_time = time.time()\n",
    "msg = {'train_month': 5,\n",
    "       'eval_month': 5,\n",
    "      'input_columns': [],\n",
    "      'use_product': True,\n",
    "      'use_change': False}\n",
    "msg_copy = msg.copy()\n",
    "msg_copy['train'] = False\n",
    "if not 'month' in msg_copy.keys():\n",
    "    msg_copy['month'] = msg_copy['eval_month']\n",
    "ret = dataset.get_data(msg_copy)"
   ]
  },
  {
   "cell_type": "code",
   "execution_count": 21,
   "metadata": {
    "collapsed": false
   },
   "outputs": [],
   "source": [
    "limit_rows   = 20000000\n",
    "dictionary_types = {\n",
    "                            \"sexo\":'category',\n",
    "                            \"ult_fec_cli_1t\":str,\n",
    "                            \"indresi\":'category',\n",
    "                            \"indext\":'category',\n",
    "                            \"indrel\":'category',\n",
    "                            \"indfall\":'category',\n",
    "                            \"nomprov\":'category',\n",
    "                            \"segmento\":'category',\n",
    "                            \"ind_empleado\":'category',\n",
    "                            \"pais_residencia\":'category',\n",
    "                            \"antiguedad\":np.int16,\n",
    "                            \"ind_nuevo\":'category',\n",
    "                            'indrel_1mes':'category',\n",
    "                            'tiprel_1mes':'category',\n",
    "                            'canal_entrada':'category',\n",
    "                            \"age\":np.int8,\n",
    "                            \"ind_actividad_cliente\":'category',\n",
    "                            \"ind_ahor_fin_ult1\":np.int8,\n",
    "                            \"ind_aval_fin_ult1\":np.int8,\n",
    "                            \"ind_cco_fin_ult1\":np.int8,\n",
    "                            \"ind_cder_fin_ult1\":np.int8,\n",
    "                            \"ind_cno_fin_ult1\":np.int8,\n",
    "                            \"ind_ctju_fin_ult1\":np.int8,\n",
    "                            \"ind_ctma_fin_ult1\":np.int8,\n",
    "                            \"ind_ctop_fin_ult1\":np.int8,\n",
    "                            \"ind_ctpp_fin_ult1\":np.int8,\n",
    "                            \"ind_deco_fin_ult1\":np.int8,\n",
    "                            \"ind_deme_fin_ult1\":np.int8,\n",
    "                            \"ind_dela_fin_ult1\":np.int8,\n",
    "                            \"ind_ecue_fin_ult1\":np.int8,\n",
    "                            \"ind_fond_fin_ult1\":np.int8,\n",
    "                            \"ind_hip_fin_ult1\":np.int8,\n",
    "                            \"ind_plan_fin_ult1\":np.int8,\n",
    "                            \"ind_pres_fin_ult1\":np.int8,\n",
    "                            \"ind_reca_fin_ult1\":np.int8,\n",
    "                            \"ind_tjcr_fin_ult1\":np.int8,\n",
    "                            \"ind_valo_fin_ult1\":np.int8,\n",
    "                            \"ind_viv_fin_ult1\":np.int8,\n",
    "                            \"ind_nomina_ult1\":np.int8,\n",
    "                            \"ind_nom_pens_ult1\":np.int8,\n",
    "                            \"ind_recibo_ult1\":np.int8,\n",
    "                            \"ind_ahor_fin_ult1_change\":'category',\n",
    "                            \"ind_aval_fin_ult1_change\":'category',\n",
    "                            \"ind_cco_fin_ult1_change\":'category',\n",
    "                            \"ind_cder_fin_ult1_change\":'category',\n",
    "                            \"ind_cno_fin_ult1_change\":'category',\n",
    "                            \"ind_ctju_fin_ult1_change\":'category',\n",
    "                            \"ind_ctma_fin_ult1_change\":'category',\n",
    "                            \"ind_ctop_fin_ult1_change\":'category',\n",
    "                            \"ind_ctpp_fin_ult1_change\":'category',\n",
    "                            \"ind_deco_fin_ult1_change\":'category',\n",
    "                            \"ind_deme_fin_ult1_change\":'category',\n",
    "                            \"ind_dela_fin_ult1_change\":'category',\n",
    "                            \"ind_ecue_fin_ult1_change\":'category',\n",
    "                            \"ind_fond_fin_ult1_change\":'category',\n",
    "                            \"ind_hip_fin_ult1_change\":'category',\n",
    "                            \"ind_plan_fin_ult1_change\":'category',\n",
    "                            \"ind_pres_fin_ult1_change\":'category',\n",
    "                            \"ind_reca_fin_ult1_change\":'category',\n",
    "                            \"ind_tjcr_fin_ult1_change\":'category',\n",
    "                            \"ind_valo_fin_ult1_change\":'category',\n",
    "                            \"ind_viv_fin_ult1_change\":'category',\n",
    "                            \"ind_nomina_ult1_change\":'category',\n",
    "                            \"ind_nom_pens_ult1_change\":'category',\n",
    "                            \"ind_recibo_ult1_change\":'category',\n",
    "                            'product_buy':np.int8,\n",
    "        }\n",
    "\n",
    "eval_current = pd.read_csv(dataset_root + \"input/eval_current_month_dataset.csv.gz\",\n",
    "                                   dtype=dictionary_types,\n",
    "                                   nrows=limit_rows)"
   ]
  },
  {
   "cell_type": "code",
   "execution_count": 23,
   "metadata": {
    "collapsed": true
   },
   "outputs": [],
   "source": [
    "from feature_trans import LightGBMTrans"
   ]
  },
  {
   "cell_type": "code",
   "execution_count": 27,
   "metadata": {
    "collapsed": false
   },
   "outputs": [],
   "source": [
    "y = eval_current[\"fecha_dato\"].values\n",
    "X = eval_current.drop(\"fecha_dato\", axis = 1).as_matrix"
   ]
  },
  {
   "cell_type": "code",
   "execution_count": 33,
   "metadata": {
    "collapsed": false
   },
   "outputs": [],
   "source": [
    "input_columns = ['ind_empleado']\n",
    "n_values = [len(dataset.translation_dict[key].values())\n",
    "                    for key in input_columns]"
   ]
  },
  {
   "cell_type": "code",
   "execution_count": 32,
   "metadata": {
    "collapsed": false
   },
   "outputs": [
    {
     "data": {
      "text/html": [
       "<div>\n",
       "<table border=\"1\" class=\"dataframe\">\n",
       "  <thead>\n",
       "    <tr style=\"text-align: right;\">\n",
       "      <th></th>\n",
       "      <th>fecha_dato</th>\n",
       "      <th>ncodpers</th>\n",
       "      <th>ind_empleado</th>\n",
       "      <th>pais_residencia</th>\n",
       "      <th>sexo</th>\n",
       "      <th>age</th>\n",
       "      <th>fecha_alta</th>\n",
       "      <th>ind_nuevo</th>\n",
       "      <th>antiguedad</th>\n",
       "      <th>indrel</th>\n",
       "      <th>...</th>\n",
       "      <th>tiprel_1mes</th>\n",
       "      <th>indresi</th>\n",
       "      <th>indext</th>\n",
       "      <th>canal_entrada</th>\n",
       "      <th>indfall</th>\n",
       "      <th>nomprov</th>\n",
       "      <th>ind_actividad_cliente</th>\n",
       "      <th>renta</th>\n",
       "      <th>segmento</th>\n",
       "      <th>new_products</th>\n",
       "    </tr>\n",
       "  </thead>\n",
       "  <tbody>\n",
       "    <tr>\n",
       "      <th>0</th>\n",
       "      <td>1</td>\n",
       "      <td>15924</td>\n",
       "      <td>B</td>\n",
       "      <td>ES</td>\n",
       "      <td>V</td>\n",
       "      <td>52</td>\n",
       "      <td>1995-01-16</td>\n",
       "      <td>0</td>\n",
       "      <td>7348</td>\n",
       "      <td>1</td>\n",
       "      <td>...</td>\n",
       "      <td>A</td>\n",
       "      <td>S</td>\n",
       "      <td>N</td>\n",
       "      <td>KAT</td>\n",
       "      <td>N</td>\n",
       "      <td>PALMAS, LAS</td>\n",
       "      <td>1</td>\n",
       "      <td>130903.68</td>\n",
       "      <td>02 - PARTICULARES</td>\n",
       "      <td>[18]</td>\n",
       "    </tr>\n",
       "    <tr>\n",
       "      <th>1</th>\n",
       "      <td>1</td>\n",
       "      <td>15925</td>\n",
       "      <td>F</td>\n",
       "      <td>ES</td>\n",
       "      <td>V</td>\n",
       "      <td>62</td>\n",
       "      <td>1995-01-16</td>\n",
       "      <td>0</td>\n",
       "      <td>7348</td>\n",
       "      <td>1</td>\n",
       "      <td>...</td>\n",
       "      <td>A</td>\n",
       "      <td>S</td>\n",
       "      <td>N</td>\n",
       "      <td>KAT</td>\n",
       "      <td>N</td>\n",
       "      <td>MADRID</td>\n",
       "      <td>1</td>\n",
       "      <td>42831.69</td>\n",
       "      <td>02 - PARTICULARES</td>\n",
       "      <td>[23]</td>\n",
       "    </tr>\n",
       "    <tr>\n",
       "      <th>2</th>\n",
       "      <td>1</td>\n",
       "      <td>15928</td>\n",
       "      <td>B</td>\n",
       "      <td>ES</td>\n",
       "      <td>H</td>\n",
       "      <td>49</td>\n",
       "      <td>1995-01-16</td>\n",
       "      <td>0</td>\n",
       "      <td>7348</td>\n",
       "      <td>1</td>\n",
       "      <td>...</td>\n",
       "      <td>A</td>\n",
       "      <td>S</td>\n",
       "      <td>N</td>\n",
       "      <td>KAT</td>\n",
       "      <td>N</td>\n",
       "      <td>MADRID</td>\n",
       "      <td>1</td>\n",
       "      <td>263023.98</td>\n",
       "      <td>01 - TOP</td>\n",
       "      <td>[18]</td>\n",
       "    </tr>\n",
       "    <tr>\n",
       "      <th>3</th>\n",
       "      <td>1</td>\n",
       "      <td>15965</td>\n",
       "      <td>F</td>\n",
       "      <td>ES</td>\n",
       "      <td>H</td>\n",
       "      <td>51</td>\n",
       "      <td>1995-01-16</td>\n",
       "      <td>0</td>\n",
       "      <td>7348</td>\n",
       "      <td>1</td>\n",
       "      <td>...</td>\n",
       "      <td>A</td>\n",
       "      <td>S</td>\n",
       "      <td>N</td>\n",
       "      <td>KAT</td>\n",
       "      <td>N</td>\n",
       "      <td>MADRID</td>\n",
       "      <td>1</td>\n",
       "      <td>44353.17</td>\n",
       "      <td>01 - TOP</td>\n",
       "      <td>[7, 8]</td>\n",
       "    </tr>\n",
       "    <tr>\n",
       "      <th>4</th>\n",
       "      <td>1</td>\n",
       "      <td>16026</td>\n",
       "      <td>F</td>\n",
       "      <td>ES</td>\n",
       "      <td>H</td>\n",
       "      <td>53</td>\n",
       "      <td>1995-02-06</td>\n",
       "      <td>0</td>\n",
       "      <td>7327</td>\n",
       "      <td>1</td>\n",
       "      <td>...</td>\n",
       "      <td>A</td>\n",
       "      <td>S</td>\n",
       "      <td>N</td>\n",
       "      <td>KAT</td>\n",
       "      <td>N</td>\n",
       "      <td>MADRID</td>\n",
       "      <td>1</td>\n",
       "      <td>151911.54</td>\n",
       "      <td>02 - PARTICULARES</td>\n",
       "      <td>[18]</td>\n",
       "    </tr>\n",
       "  </tbody>\n",
       "</table>\n",
       "<p>5 rows × 21 columns</p>\n",
       "</div>"
      ],
      "text/plain": [
       "   fecha_dato  ncodpers ind_empleado pais_residencia sexo  age  fecha_alta  \\\n",
       "0           1     15924            B              ES    V   52  1995-01-16   \n",
       "1           1     15925            F              ES    V   62  1995-01-16   \n",
       "2           1     15928            B              ES    H   49  1995-01-16   \n",
       "3           1     15965            F              ES    H   51  1995-01-16   \n",
       "4           1     16026            F              ES    H   53  1995-02-06   \n",
       "\n",
       "  ind_nuevo  antiguedad indrel     ...      tiprel_1mes indresi indext  \\\n",
       "0         0        7348      1     ...                A       S      N   \n",
       "1         0        7348      1     ...                A       S      N   \n",
       "2         0        7348      1     ...                A       S      N   \n",
       "3         0        7348      1     ...                A       S      N   \n",
       "4         0        7327      1     ...                A       S      N   \n",
       "\n",
       "  canal_entrada indfall      nomprov ind_actividad_cliente      renta  \\\n",
       "0           KAT       N  PALMAS, LAS                     1  130903.68   \n",
       "1           KAT       N       MADRID                     1   42831.69   \n",
       "2           KAT       N       MADRID                     1  263023.98   \n",
       "3           KAT       N       MADRID                     1   44353.17   \n",
       "4           KAT       N       MADRID                     1  151911.54   \n",
       "\n",
       "            segmento new_products  \n",
       "0  02 - PARTICULARES         [18]  \n",
       "1  02 - PARTICULARES         [23]  \n",
       "2           01 - TOP         [18]  \n",
       "3           01 - TOP       [7, 8]  \n",
       "4  02 - PARTICULARES         [18]  \n",
       "\n",
       "[5 rows x 21 columns]"
      ]
     },
     "execution_count": 32,
     "metadata": {},
     "output_type": "execute_result"
    }
   ],
   "source": [
    "eval_current.head()"
   ]
  },
  {
   "cell_type": "code",
   "execution_count": 34,
   "metadata": {
    "collapsed": false
   },
   "outputs": [
    {
     "data": {
      "text/plain": [
       "[5]"
      ]
     },
     "execution_count": 34,
     "metadata": {},
     "output_type": "execute_result"
    }
   ],
   "source": [
    "n_values"
   ]
  },
  {
   "cell_type": "code",
   "execution_count": null,
   "metadata": {
    "collapsed": true
   },
   "outputs": [],
   "source": []
  }
 ],
 "metadata": {
  "kernelspec": {
   "display_name": "Python 2",
   "language": "python",
   "name": "python2"
  },
  "language_info": {
   "codemirror_mode": {
    "name": "ipython",
    "version": 2
   },
   "file_extension": ".py",
   "mimetype": "text/x-python",
   "name": "python",
   "nbconvert_exporter": "python",
   "pygments_lexer": "ipython2",
   "version": "2.7.12"
  }
 },
 "nbformat": 4,
 "nbformat_minor": 0
}
