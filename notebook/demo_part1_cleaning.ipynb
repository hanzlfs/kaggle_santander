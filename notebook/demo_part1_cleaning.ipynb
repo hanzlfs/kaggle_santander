{
 "cells": [
  {
   "cell_type": "markdown",
   "metadata": {},
   "source": [
    "## Demo for Santander Product Recommendation Project\n",
    "#### Part 1: Data loading and cleaning\n",
    "This is the work demo for Satandander Product Recommendation Project, which is a also Kaggle Contest. We ranked as 12nd in Public LB and 16th in Private LB. In this project the target was to recommend new products to customers based on their historical behavioral patterns, product purchase records as well as demographic information. The demo will give a step-by-step workflow of my work. Basically this notebook includes:\n",
    "- Data cleaning and filtering\n",
    "- Feature Engineer\n",
    "- EDA and feature exploration\n",
    "- Model Training and Validation\n",
    "\n",
    "**Note:** *We only use training data for the demonstration and validation as the true label was not provided in test data*\n"
   ]
  },
  {
   "cell_type": "code",
   "execution_count": null,
   "metadata": {
    "collapsed": false
   },
   "outputs": [
    {
     "name": "stdout",
     "output_type": "stream",
     "text": [
      "Once deleted, variables cannot be recovered. Proceed (y/[n])? y\n"
     ]
    }
   ],
   "source": [
    "%reset"
   ]
  },
  {
   "cell_type": "code",
   "execution_count": 3,
   "metadata": {
    "collapsed": false
   },
   "outputs": [
    {
     "data": {
      "text/plain": [
       "<module 'helper.data' from 'helper/data.pyc'>"
      ]
     },
     "execution_count": 3,
     "metadata": {},
     "output_type": "execute_result"
    }
   ],
   "source": [
    "import helper.data\n",
    "reload(helper.data)"
   ]
  },
  {
   "cell_type": "code",
   "execution_count": 4,
   "metadata": {
    "collapsed": true
   },
   "outputs": [],
   "source": [
    "## disable warnings\n",
    "import warnings\n",
    "\n",
    "warnings.filterwarnings('ignore')"
   ]
  },
  {
   "cell_type": "code",
   "execution_count": null,
   "metadata": {
    "collapsed": true
   },
   "outputs": [],
   "source": [
    "config_db = \"../input/santander_full.sqlite\""
   ]
  },
  {
   "cell_type": "markdown",
   "metadata": {},
   "source": [
    "#### 0. Import necessary modules"
   ]
  },
  {
   "cell_type": "code",
   "execution_count": 5,
   "metadata": {
    "collapsed": false
   },
   "outputs": [
    {
     "name": "stdout",
     "output_type": "stream",
     "text": [
      "Populating the interactive namespace from numpy and matplotlib\n"
     ]
    }
   ],
   "source": [
    "import pandas as pd\n",
    "import sqlite3 as sq\n",
    "import numpy as np\n",
    "import datetime\n",
    "import gc\n",
    "import seaborn as sns\n",
    "import matplotlib.pyplot as plt\n",
    "%pylab inline\n",
    "pylab.rcParams['figure.figsize'] = (10, 6)\n",
    "sq_conn = sq.connect(config_db)"
   ]
  },
  {
   "cell_type": "markdown",
   "metadata": {},
   "source": [
    "#### 1. Load Train Data"
   ]
  },
  {
   "cell_type": "markdown",
   "metadata": {},
   "source": [
    "- Load data from local file\n"
   ]
  },
  {
   "cell_type": "code",
   "execution_count": 6,
   "metadata": {
    "collapsed": false
   },
   "outputs": [],
   "source": [
    "## Read train data from file (I translated all Spanish col names into English)\n",
    "from helper.data import load_data\n",
    "file_path = \"../input/train_ver2.csv.zip\"\n",
    "df_train = load_data(file_path)"
   ]
  },
  {
   "cell_type": "code",
   "execution_count": 8,
   "metadata": {
    "collapsed": false
   },
   "outputs": [
    {
     "name": "stdout",
     "output_type": "stream",
     "text": [
      "(13647309, 48)\n"
     ]
    },
    {
     "data": {
      "text/html": [
       "<div>\n",
       "<table border=\"1\" class=\"dataframe\">\n",
       "  <thead>\n",
       "    <tr style=\"text-align: right;\">\n",
       "      <th></th>\n",
       "      <th>fecha_dato</th>\n",
       "      <th>ncodpers</th>\n",
       "      <th>ind_empleado</th>\n",
       "      <th>pais_residencia</th>\n",
       "      <th>sexo</th>\n",
       "      <th>age</th>\n",
       "      <th>fecha_alta</th>\n",
       "      <th>ind_nuevo</th>\n",
       "      <th>antiguedad</th>\n",
       "      <th>indrel</th>\n",
       "      <th>...</th>\n",
       "      <th>ind_hip_fin_ult1</th>\n",
       "      <th>ind_plan_fin_ult1</th>\n",
       "      <th>ind_pres_fin_ult1</th>\n",
       "      <th>ind_reca_fin_ult1</th>\n",
       "      <th>ind_tjcr_fin_ult1</th>\n",
       "      <th>ind_valo_fin_ult1</th>\n",
       "      <th>ind_viv_fin_ult1</th>\n",
       "      <th>ind_nomina_ult1</th>\n",
       "      <th>ind_nom_pens_ult1</th>\n",
       "      <th>ind_recibo_ult1</th>\n",
       "    </tr>\n",
       "  </thead>\n",
       "  <tbody>\n",
       "    <tr>\n",
       "      <th>0</th>\n",
       "      <td>2015-01-28</td>\n",
       "      <td>1375586</td>\n",
       "      <td>N</td>\n",
       "      <td>ES</td>\n",
       "      <td>H</td>\n",
       "      <td>35</td>\n",
       "      <td>2015-01-12</td>\n",
       "      <td>0</td>\n",
       "      <td>6</td>\n",
       "      <td>1.0</td>\n",
       "      <td>...</td>\n",
       "      <td>0</td>\n",
       "      <td>0</td>\n",
       "      <td>0</td>\n",
       "      <td>0</td>\n",
       "      <td>0</td>\n",
       "      <td>0</td>\n",
       "      <td>0</td>\n",
       "      <td>0.0</td>\n",
       "      <td>0.0</td>\n",
       "      <td>0</td>\n",
       "    </tr>\n",
       "    <tr>\n",
       "      <th>1</th>\n",
       "      <td>2015-01-28</td>\n",
       "      <td>1050611</td>\n",
       "      <td>N</td>\n",
       "      <td>ES</td>\n",
       "      <td>V</td>\n",
       "      <td>23</td>\n",
       "      <td>2012-08-10</td>\n",
       "      <td>0</td>\n",
       "      <td>35</td>\n",
       "      <td>1.0</td>\n",
       "      <td>...</td>\n",
       "      <td>0</td>\n",
       "      <td>0</td>\n",
       "      <td>0</td>\n",
       "      <td>0</td>\n",
       "      <td>0</td>\n",
       "      <td>0</td>\n",
       "      <td>0</td>\n",
       "      <td>0.0</td>\n",
       "      <td>0.0</td>\n",
       "      <td>0</td>\n",
       "    </tr>\n",
       "    <tr>\n",
       "      <th>2</th>\n",
       "      <td>2015-01-28</td>\n",
       "      <td>1050612</td>\n",
       "      <td>N</td>\n",
       "      <td>ES</td>\n",
       "      <td>V</td>\n",
       "      <td>23</td>\n",
       "      <td>2012-08-10</td>\n",
       "      <td>0</td>\n",
       "      <td>35</td>\n",
       "      <td>1.0</td>\n",
       "      <td>...</td>\n",
       "      <td>0</td>\n",
       "      <td>0</td>\n",
       "      <td>0</td>\n",
       "      <td>0</td>\n",
       "      <td>0</td>\n",
       "      <td>0</td>\n",
       "      <td>0</td>\n",
       "      <td>0.0</td>\n",
       "      <td>0.0</td>\n",
       "      <td>0</td>\n",
       "    </tr>\n",
       "    <tr>\n",
       "      <th>3</th>\n",
       "      <td>2015-01-28</td>\n",
       "      <td>1050613</td>\n",
       "      <td>N</td>\n",
       "      <td>ES</td>\n",
       "      <td>H</td>\n",
       "      <td>22</td>\n",
       "      <td>2012-08-10</td>\n",
       "      <td>0</td>\n",
       "      <td>35</td>\n",
       "      <td>1.0</td>\n",
       "      <td>...</td>\n",
       "      <td>0</td>\n",
       "      <td>0</td>\n",
       "      <td>0</td>\n",
       "      <td>0</td>\n",
       "      <td>0</td>\n",
       "      <td>0</td>\n",
       "      <td>0</td>\n",
       "      <td>0.0</td>\n",
       "      <td>0.0</td>\n",
       "      <td>0</td>\n",
       "    </tr>\n",
       "    <tr>\n",
       "      <th>4</th>\n",
       "      <td>2015-01-28</td>\n",
       "      <td>1050614</td>\n",
       "      <td>N</td>\n",
       "      <td>ES</td>\n",
       "      <td>V</td>\n",
       "      <td>23</td>\n",
       "      <td>2012-08-10</td>\n",
       "      <td>0</td>\n",
       "      <td>35</td>\n",
       "      <td>1.0</td>\n",
       "      <td>...</td>\n",
       "      <td>0</td>\n",
       "      <td>0</td>\n",
       "      <td>0</td>\n",
       "      <td>0</td>\n",
       "      <td>0</td>\n",
       "      <td>0</td>\n",
       "      <td>0</td>\n",
       "      <td>0.0</td>\n",
       "      <td>0.0</td>\n",
       "      <td>0</td>\n",
       "    </tr>\n",
       "  </tbody>\n",
       "</table>\n",
       "<p>5 rows × 48 columns</p>\n",
       "</div>"
      ],
      "text/plain": [
       "   fecha_dato  ncodpers ind_empleado pais_residencia sexo  age  fecha_alta  \\\n",
       "0  2015-01-28   1375586            N              ES    H   35  2015-01-12   \n",
       "1  2015-01-28   1050611            N              ES    V   23  2012-08-10   \n",
       "2  2015-01-28   1050612            N              ES    V   23  2012-08-10   \n",
       "3  2015-01-28   1050613            N              ES    H   22  2012-08-10   \n",
       "4  2015-01-28   1050614            N              ES    V   23  2012-08-10   \n",
       "\n",
       "  ind_nuevo antiguedad  indrel       ...        ind_hip_fin_ult1  \\\n",
       "0         0          6     1.0       ...                       0   \n",
       "1         0         35     1.0       ...                       0   \n",
       "2         0         35     1.0       ...                       0   \n",
       "3         0         35     1.0       ...                       0   \n",
       "4         0         35     1.0       ...                       0   \n",
       "\n",
       "  ind_plan_fin_ult1 ind_pres_fin_ult1 ind_reca_fin_ult1 ind_tjcr_fin_ult1  \\\n",
       "0                 0                 0                 0                 0   \n",
       "1                 0                 0                 0                 0   \n",
       "2                 0                 0                 0                 0   \n",
       "3                 0                 0                 0                 0   \n",
       "4                 0                 0                 0                 0   \n",
       "\n",
       "  ind_valo_fin_ult1 ind_viv_fin_ult1 ind_nomina_ult1  ind_nom_pens_ult1  \\\n",
       "0                 0                0             0.0                0.0   \n",
       "1                 0                0             0.0                0.0   \n",
       "2                 0                0             0.0                0.0   \n",
       "3                 0                0             0.0                0.0   \n",
       "4                 0                0             0.0                0.0   \n",
       "\n",
       "   ind_recibo_ult1  \n",
       "0                0  \n",
       "1                0  \n",
       "2                0  \n",
       "3                0  \n",
       "4                0  \n",
       "\n",
       "[5 rows x 48 columns]"
      ]
     },
     "execution_count": 8,
     "metadata": {},
     "output_type": "execute_result"
    }
   ],
   "source": [
    "print df_train.shape\n",
    "df_train.head()"
   ]
  },
  {
   "cell_type": "markdown",
   "metadata": {},
   "source": [
    "- Translate data columns into English"
   ]
  },
  {
   "cell_type": "code",
   "execution_count": 9,
   "metadata": {
    "collapsed": false
   },
   "outputs": [],
   "source": [
    "# Translate the data column names into English for better explanation\n",
    "from helper.data import set_rename\n",
    "map_rename = set_rename()\n",
    "df_train.rename(columns=map_rename, inplace = True)"
   ]
  },
  {
   "cell_type": "code",
   "execution_count": 10,
   "metadata": {
    "collapsed": false
   },
   "outputs": [
    {
     "data": {
      "text/html": [
       "<div>\n",
       "<table border=\"1\" class=\"dataframe\">\n",
       "  <thead>\n",
       "    <tr style=\"text-align: right;\">\n",
       "      <th></th>\n",
       "      <th>date_record</th>\n",
       "      <th>cust_id</th>\n",
       "      <th>idx_employee</th>\n",
       "      <th>country_code</th>\n",
       "      <th>sex</th>\n",
       "      <th>age</th>\n",
       "      <th>date_first_holder</th>\n",
       "      <th>idx_new_cust</th>\n",
       "      <th>months_seniority</th>\n",
       "      <th>idx_primary</th>\n",
       "      <th>...</th>\n",
       "      <th>p15_mortgage</th>\n",
       "      <th>p16_pensions_plan</th>\n",
       "      <th>p17_loans</th>\n",
       "      <th>p18_taxes</th>\n",
       "      <th>p19_credit_card</th>\n",
       "      <th>p20_securities</th>\n",
       "      <th>p21_home_acct</th>\n",
       "      <th>p22_payroll_appt</th>\n",
       "      <th>p23_pensions_appt</th>\n",
       "      <th>p24_direct_debit</th>\n",
       "    </tr>\n",
       "  </thead>\n",
       "  <tbody>\n",
       "    <tr>\n",
       "      <th>0</th>\n",
       "      <td>2015-01-28</td>\n",
       "      <td>1375586</td>\n",
       "      <td>N</td>\n",
       "      <td>ES</td>\n",
       "      <td>H</td>\n",
       "      <td>35</td>\n",
       "      <td>2015-01-12</td>\n",
       "      <td>0</td>\n",
       "      <td>6</td>\n",
       "      <td>1.0</td>\n",
       "      <td>...</td>\n",
       "      <td>0</td>\n",
       "      <td>0</td>\n",
       "      <td>0</td>\n",
       "      <td>0</td>\n",
       "      <td>0</td>\n",
       "      <td>0</td>\n",
       "      <td>0</td>\n",
       "      <td>0.0</td>\n",
       "      <td>0.0</td>\n",
       "      <td>0</td>\n",
       "    </tr>\n",
       "    <tr>\n",
       "      <th>1</th>\n",
       "      <td>2015-01-28</td>\n",
       "      <td>1050611</td>\n",
       "      <td>N</td>\n",
       "      <td>ES</td>\n",
       "      <td>V</td>\n",
       "      <td>23</td>\n",
       "      <td>2012-08-10</td>\n",
       "      <td>0</td>\n",
       "      <td>35</td>\n",
       "      <td>1.0</td>\n",
       "      <td>...</td>\n",
       "      <td>0</td>\n",
       "      <td>0</td>\n",
       "      <td>0</td>\n",
       "      <td>0</td>\n",
       "      <td>0</td>\n",
       "      <td>0</td>\n",
       "      <td>0</td>\n",
       "      <td>0.0</td>\n",
       "      <td>0.0</td>\n",
       "      <td>0</td>\n",
       "    </tr>\n",
       "    <tr>\n",
       "      <th>2</th>\n",
       "      <td>2015-01-28</td>\n",
       "      <td>1050612</td>\n",
       "      <td>N</td>\n",
       "      <td>ES</td>\n",
       "      <td>V</td>\n",
       "      <td>23</td>\n",
       "      <td>2012-08-10</td>\n",
       "      <td>0</td>\n",
       "      <td>35</td>\n",
       "      <td>1.0</td>\n",
       "      <td>...</td>\n",
       "      <td>0</td>\n",
       "      <td>0</td>\n",
       "      <td>0</td>\n",
       "      <td>0</td>\n",
       "      <td>0</td>\n",
       "      <td>0</td>\n",
       "      <td>0</td>\n",
       "      <td>0.0</td>\n",
       "      <td>0.0</td>\n",
       "      <td>0</td>\n",
       "    </tr>\n",
       "    <tr>\n",
       "      <th>3</th>\n",
       "      <td>2015-01-28</td>\n",
       "      <td>1050613</td>\n",
       "      <td>N</td>\n",
       "      <td>ES</td>\n",
       "      <td>H</td>\n",
       "      <td>22</td>\n",
       "      <td>2012-08-10</td>\n",
       "      <td>0</td>\n",
       "      <td>35</td>\n",
       "      <td>1.0</td>\n",
       "      <td>...</td>\n",
       "      <td>0</td>\n",
       "      <td>0</td>\n",
       "      <td>0</td>\n",
       "      <td>0</td>\n",
       "      <td>0</td>\n",
       "      <td>0</td>\n",
       "      <td>0</td>\n",
       "      <td>0.0</td>\n",
       "      <td>0.0</td>\n",
       "      <td>0</td>\n",
       "    </tr>\n",
       "    <tr>\n",
       "      <th>4</th>\n",
       "      <td>2015-01-28</td>\n",
       "      <td>1050614</td>\n",
       "      <td>N</td>\n",
       "      <td>ES</td>\n",
       "      <td>V</td>\n",
       "      <td>23</td>\n",
       "      <td>2012-08-10</td>\n",
       "      <td>0</td>\n",
       "      <td>35</td>\n",
       "      <td>1.0</td>\n",
       "      <td>...</td>\n",
       "      <td>0</td>\n",
       "      <td>0</td>\n",
       "      <td>0</td>\n",
       "      <td>0</td>\n",
       "      <td>0</td>\n",
       "      <td>0</td>\n",
       "      <td>0</td>\n",
       "      <td>0.0</td>\n",
       "      <td>0.0</td>\n",
       "      <td>0</td>\n",
       "    </tr>\n",
       "  </tbody>\n",
       "</table>\n",
       "<p>5 rows × 48 columns</p>\n",
       "</div>"
      ],
      "text/plain": [
       "  date_record  cust_id idx_employee country_code sex  age date_first_holder  \\\n",
       "0  2015-01-28  1375586            N           ES   H   35        2015-01-12   \n",
       "1  2015-01-28  1050611            N           ES   V   23        2012-08-10   \n",
       "2  2015-01-28  1050612            N           ES   V   23        2012-08-10   \n",
       "3  2015-01-28  1050613            N           ES   H   22        2012-08-10   \n",
       "4  2015-01-28  1050614            N           ES   V   23        2012-08-10   \n",
       "\n",
       "  idx_new_cust months_seniority  idx_primary        ...        p15_mortgage  \\\n",
       "0            0                6          1.0        ...                   0   \n",
       "1            0               35          1.0        ...                   0   \n",
       "2            0               35          1.0        ...                   0   \n",
       "3            0               35          1.0        ...                   0   \n",
       "4            0               35          1.0        ...                   0   \n",
       "\n",
       "  p16_pensions_plan p17_loans p18_taxes p19_credit_card p20_securities  \\\n",
       "0                 0         0         0               0              0   \n",
       "1                 0         0         0               0              0   \n",
       "2                 0         0         0               0              0   \n",
       "3                 0         0         0               0              0   \n",
       "4                 0         0         0               0              0   \n",
       "\n",
       "  p21_home_acct p22_payroll_appt  p23_pensions_appt  p24_direct_debit  \n",
       "0             0              0.0                0.0                 0  \n",
       "1             0              0.0                0.0                 0  \n",
       "2             0              0.0                0.0                 0  \n",
       "3             0              0.0                0.0                 0  \n",
       "4             0              0.0                0.0                 0  \n",
       "\n",
       "[5 rows x 48 columns]"
      ]
     },
     "execution_count": 10,
     "metadata": {},
     "output_type": "execute_result"
    }
   ],
   "source": [
    "df_train.head()"
   ]
  },
  {
   "cell_type": "markdown",
   "metadata": {},
   "source": [
    "### Select a sample by cust_id"
   ]
  },
  {
   "cell_type": "code",
   "execution_count": 219,
   "metadata": {
    "collapsed": false
   },
   "outputs": [],
   "source": [
    "# There are 956645 unique cust_ids in total, we select 100000 unique users \n",
    "N = 100000\n",
    "np.random.seed(2017)\n",
    "rand_cust_ids = np.random.choice(list(set(df_train.cust_id)), N, replace=False)\n",
    "df_select_cust = pd.DataFrame({\"cust_id\": rand_cust_ids.tolist(), \"issample\": [1] * N})"
   ]
  },
  {
   "cell_type": "code",
   "execution_count": 220,
   "metadata": {
    "collapsed": false
   },
   "outputs": [],
   "source": [
    "# join df_select_cust onto df_train and keep only items with issample == 1\n",
    "df_train = df_train.merge(df_select_cust, how = \"left\", on = \"cust_id\")"
   ]
  },
  {
   "cell_type": "code",
   "execution_count": 221,
   "metadata": {
    "collapsed": false
   },
   "outputs": [],
   "source": [
    "df = df_train.loc[df_train.issample == 1, :]"
   ]
  },
  {
   "cell_type": "code",
   "execution_count": 222,
   "metadata": {
    "collapsed": false
   },
   "outputs": [],
   "source": [
    "df.reset_index(drop = True, inplace = True)\n",
    "df.drop([\"issample\"], axis = 1, inplace = True)"
   ]
  },
  {
   "cell_type": "code",
   "execution_count": 223,
   "metadata": {
    "collapsed": false
   },
   "outputs": [
    {
     "data": {
      "text/html": [
       "<div>\n",
       "<table border=\"1\" class=\"dataframe\">\n",
       "  <thead>\n",
       "    <tr style=\"text-align: right;\">\n",
       "      <th></th>\n",
       "      <th>date_record</th>\n",
       "      <th>cust_id</th>\n",
       "      <th>idx_employee</th>\n",
       "      <th>country_code</th>\n",
       "      <th>sex</th>\n",
       "      <th>age</th>\n",
       "      <th>date_first_holder</th>\n",
       "      <th>idx_new_cust</th>\n",
       "      <th>months_seniority</th>\n",
       "      <th>idx_primary</th>\n",
       "      <th>...</th>\n",
       "      <th>p15_mortgage</th>\n",
       "      <th>p16_pensions_plan</th>\n",
       "      <th>p17_loans</th>\n",
       "      <th>p18_taxes</th>\n",
       "      <th>p19_credit_card</th>\n",
       "      <th>p20_securities</th>\n",
       "      <th>p21_home_acct</th>\n",
       "      <th>p22_payroll_appt</th>\n",
       "      <th>p23_pensions_appt</th>\n",
       "      <th>p24_direct_debit</th>\n",
       "    </tr>\n",
       "  </thead>\n",
       "  <tbody>\n",
       "    <tr>\n",
       "      <th>0</th>\n",
       "      <td>2015-01-28</td>\n",
       "      <td>1375586</td>\n",
       "      <td>N</td>\n",
       "      <td>ES</td>\n",
       "      <td>H</td>\n",
       "      <td>35</td>\n",
       "      <td>2015-01-12</td>\n",
       "      <td>0</td>\n",
       "      <td>6</td>\n",
       "      <td>1.0</td>\n",
       "      <td>...</td>\n",
       "      <td>0</td>\n",
       "      <td>0</td>\n",
       "      <td>0</td>\n",
       "      <td>0</td>\n",
       "      <td>0</td>\n",
       "      <td>0</td>\n",
       "      <td>0</td>\n",
       "      <td>0.0</td>\n",
       "      <td>0.0</td>\n",
       "      <td>0</td>\n",
       "    </tr>\n",
       "    <tr>\n",
       "      <th>1</th>\n",
       "      <td>2015-01-28</td>\n",
       "      <td>1050614</td>\n",
       "      <td>N</td>\n",
       "      <td>ES</td>\n",
       "      <td>V</td>\n",
       "      <td>23</td>\n",
       "      <td>2012-08-10</td>\n",
       "      <td>0</td>\n",
       "      <td>35</td>\n",
       "      <td>1.0</td>\n",
       "      <td>...</td>\n",
       "      <td>0</td>\n",
       "      <td>0</td>\n",
       "      <td>0</td>\n",
       "      <td>0</td>\n",
       "      <td>0</td>\n",
       "      <td>0</td>\n",
       "      <td>0</td>\n",
       "      <td>0.0</td>\n",
       "      <td>0.0</td>\n",
       "      <td>0</td>\n",
       "    </tr>\n",
       "    <tr>\n",
       "      <th>2</th>\n",
       "      <td>2015-01-28</td>\n",
       "      <td>1050610</td>\n",
       "      <td>N</td>\n",
       "      <td>ES</td>\n",
       "      <td>V</td>\n",
       "      <td>24</td>\n",
       "      <td>2012-08-10</td>\n",
       "      <td>0</td>\n",
       "      <td>35</td>\n",
       "      <td>1.0</td>\n",
       "      <td>...</td>\n",
       "      <td>0</td>\n",
       "      <td>0</td>\n",
       "      <td>0</td>\n",
       "      <td>0</td>\n",
       "      <td>0</td>\n",
       "      <td>0</td>\n",
       "      <td>0</td>\n",
       "      <td>0.0</td>\n",
       "      <td>0.0</td>\n",
       "      <td>0</td>\n",
       "    </tr>\n",
       "    <tr>\n",
       "      <th>3</th>\n",
       "      <td>2015-01-28</td>\n",
       "      <td>1050582</td>\n",
       "      <td>N</td>\n",
       "      <td>ES</td>\n",
       "      <td>V</td>\n",
       "      <td>28</td>\n",
       "      <td>2012-08-10</td>\n",
       "      <td>0</td>\n",
       "      <td>35</td>\n",
       "      <td>1.0</td>\n",
       "      <td>...</td>\n",
       "      <td>0</td>\n",
       "      <td>0</td>\n",
       "      <td>0</td>\n",
       "      <td>0</td>\n",
       "      <td>0</td>\n",
       "      <td>0</td>\n",
       "      <td>0</td>\n",
       "      <td>0.0</td>\n",
       "      <td>0.0</td>\n",
       "      <td>0</td>\n",
       "    </tr>\n",
       "    <tr>\n",
       "      <th>4</th>\n",
       "      <td>2015-01-28</td>\n",
       "      <td>1050591</td>\n",
       "      <td>N</td>\n",
       "      <td>ES</td>\n",
       "      <td>H</td>\n",
       "      <td>23</td>\n",
       "      <td>2012-08-10</td>\n",
       "      <td>0</td>\n",
       "      <td>35</td>\n",
       "      <td>1.0</td>\n",
       "      <td>...</td>\n",
       "      <td>0</td>\n",
       "      <td>0</td>\n",
       "      <td>0</td>\n",
       "      <td>0</td>\n",
       "      <td>0</td>\n",
       "      <td>0</td>\n",
       "      <td>0</td>\n",
       "      <td>0.0</td>\n",
       "      <td>0.0</td>\n",
       "      <td>0</td>\n",
       "    </tr>\n",
       "  </tbody>\n",
       "</table>\n",
       "<p>5 rows × 48 columns</p>\n",
       "</div>"
      ],
      "text/plain": [
       "  date_record  cust_id idx_employee country_code sex  age date_first_holder  \\\n",
       "0  2015-01-28  1375586            N           ES   H   35        2015-01-12   \n",
       "1  2015-01-28  1050614            N           ES   V   23        2012-08-10   \n",
       "2  2015-01-28  1050610            N           ES   V   24        2012-08-10   \n",
       "3  2015-01-28  1050582            N           ES   V   28        2012-08-10   \n",
       "4  2015-01-28  1050591            N           ES   H   23        2012-08-10   \n",
       "\n",
       "  idx_new_cust months_seniority  idx_primary        ...        p15_mortgage  \\\n",
       "0            0                6          1.0        ...                   0   \n",
       "1            0               35          1.0        ...                   0   \n",
       "2            0               35          1.0        ...                   0   \n",
       "3            0               35          1.0        ...                   0   \n",
       "4            0               35          1.0        ...                   0   \n",
       "\n",
       "  p16_pensions_plan p17_loans p18_taxes p19_credit_card p20_securities  \\\n",
       "0                 0         0         0               0              0   \n",
       "1                 0         0         0               0              0   \n",
       "2                 0         0         0               0              0   \n",
       "3                 0         0         0               0              0   \n",
       "4                 0         0         0               0              0   \n",
       "\n",
       "  p21_home_acct p22_payroll_appt  p23_pensions_appt  p24_direct_debit  \n",
       "0             0              0.0                0.0                 0  \n",
       "1             0              0.0                0.0                 0  \n",
       "2             0              0.0                0.0                 0  \n",
       "3             0              0.0                0.0                 0  \n",
       "4             0              0.0                0.0                 0  \n",
       "\n",
       "[5 rows x 48 columns]"
      ]
     },
     "execution_count": 223,
     "metadata": {},
     "output_type": "execute_result"
    }
   ],
   "source": [
    "# (1427491, 48)\n",
    "df.head()"
   ]
  },
  {
   "cell_type": "markdown",
   "metadata": {},
   "source": [
    "#### 2. Clean data and impute missing values"
   ]
  },
  {
   "cell_type": "markdown",
   "metadata": {},
   "source": [
    "- Convert date_record to months passed after 2015-01-28"
   ]
  },
  {
   "cell_type": "code",
   "execution_count": 16,
   "metadata": {
    "collapsed": false
   },
   "outputs": [],
   "source": [
    "from helper.data import conv_to_mon\n",
    "df[\"date_record\"] = df[\"date_record\"].apply(conv_to_mon)"
   ]
  },
  {
   "cell_type": "code",
   "execution_count": 17,
   "metadata": {
    "collapsed": false
   },
   "outputs": [
    {
     "data": {
      "text/html": [
       "<div>\n",
       "<table border=\"1\" class=\"dataframe\">\n",
       "  <thead>\n",
       "    <tr style=\"text-align: right;\">\n",
       "      <th></th>\n",
       "      <th>date_record</th>\n",
       "      <th>cust_id</th>\n",
       "      <th>idx_employee</th>\n",
       "      <th>country_code</th>\n",
       "      <th>sex</th>\n",
       "      <th>age</th>\n",
       "      <th>date_first_holder</th>\n",
       "      <th>idx_new_cust</th>\n",
       "      <th>months_seniority</th>\n",
       "      <th>idx_primary</th>\n",
       "      <th>...</th>\n",
       "      <th>p15_mortgage</th>\n",
       "      <th>p16_pensions_plan</th>\n",
       "      <th>p17_loans</th>\n",
       "      <th>p18_taxes</th>\n",
       "      <th>p19_credit_card</th>\n",
       "      <th>p20_securities</th>\n",
       "      <th>p21_home_acct</th>\n",
       "      <th>p22_payroll_appt</th>\n",
       "      <th>p23_pensions_appt</th>\n",
       "      <th>p24_direct_debit</th>\n",
       "    </tr>\n",
       "  </thead>\n",
       "  <tbody>\n",
       "    <tr>\n",
       "      <th>0</th>\n",
       "      <td>0</td>\n",
       "      <td>1375586</td>\n",
       "      <td>N</td>\n",
       "      <td>ES</td>\n",
       "      <td>H</td>\n",
       "      <td>35</td>\n",
       "      <td>2015-01-12</td>\n",
       "      <td>0</td>\n",
       "      <td>6</td>\n",
       "      <td>1.0</td>\n",
       "      <td>...</td>\n",
       "      <td>0</td>\n",
       "      <td>0</td>\n",
       "      <td>0</td>\n",
       "      <td>0</td>\n",
       "      <td>0</td>\n",
       "      <td>0</td>\n",
       "      <td>0</td>\n",
       "      <td>0.0</td>\n",
       "      <td>0.0</td>\n",
       "      <td>0</td>\n",
       "    </tr>\n",
       "    <tr>\n",
       "      <th>1</th>\n",
       "      <td>0</td>\n",
       "      <td>1050611</td>\n",
       "      <td>N</td>\n",
       "      <td>ES</td>\n",
       "      <td>V</td>\n",
       "      <td>23</td>\n",
       "      <td>2012-08-10</td>\n",
       "      <td>0</td>\n",
       "      <td>35</td>\n",
       "      <td>1.0</td>\n",
       "      <td>...</td>\n",
       "      <td>0</td>\n",
       "      <td>0</td>\n",
       "      <td>0</td>\n",
       "      <td>0</td>\n",
       "      <td>0</td>\n",
       "      <td>0</td>\n",
       "      <td>0</td>\n",
       "      <td>0.0</td>\n",
       "      <td>0.0</td>\n",
       "      <td>0</td>\n",
       "    </tr>\n",
       "    <tr>\n",
       "      <th>2</th>\n",
       "      <td>0</td>\n",
       "      <td>1050612</td>\n",
       "      <td>N</td>\n",
       "      <td>ES</td>\n",
       "      <td>V</td>\n",
       "      <td>23</td>\n",
       "      <td>2012-08-10</td>\n",
       "      <td>0</td>\n",
       "      <td>35</td>\n",
       "      <td>1.0</td>\n",
       "      <td>...</td>\n",
       "      <td>0</td>\n",
       "      <td>0</td>\n",
       "      <td>0</td>\n",
       "      <td>0</td>\n",
       "      <td>0</td>\n",
       "      <td>0</td>\n",
       "      <td>0</td>\n",
       "      <td>0.0</td>\n",
       "      <td>0.0</td>\n",
       "      <td>0</td>\n",
       "    </tr>\n",
       "    <tr>\n",
       "      <th>3</th>\n",
       "      <td>0</td>\n",
       "      <td>1050613</td>\n",
       "      <td>N</td>\n",
       "      <td>ES</td>\n",
       "      <td>H</td>\n",
       "      <td>22</td>\n",
       "      <td>2012-08-10</td>\n",
       "      <td>0</td>\n",
       "      <td>35</td>\n",
       "      <td>1.0</td>\n",
       "      <td>...</td>\n",
       "      <td>0</td>\n",
       "      <td>0</td>\n",
       "      <td>0</td>\n",
       "      <td>0</td>\n",
       "      <td>0</td>\n",
       "      <td>0</td>\n",
       "      <td>0</td>\n",
       "      <td>0.0</td>\n",
       "      <td>0.0</td>\n",
       "      <td>0</td>\n",
       "    </tr>\n",
       "    <tr>\n",
       "      <th>4</th>\n",
       "      <td>0</td>\n",
       "      <td>1050614</td>\n",
       "      <td>N</td>\n",
       "      <td>ES</td>\n",
       "      <td>V</td>\n",
       "      <td>23</td>\n",
       "      <td>2012-08-10</td>\n",
       "      <td>0</td>\n",
       "      <td>35</td>\n",
       "      <td>1.0</td>\n",
       "      <td>...</td>\n",
       "      <td>0</td>\n",
       "      <td>0</td>\n",
       "      <td>0</td>\n",
       "      <td>0</td>\n",
       "      <td>0</td>\n",
       "      <td>0</td>\n",
       "      <td>0</td>\n",
       "      <td>0.0</td>\n",
       "      <td>0.0</td>\n",
       "      <td>0</td>\n",
       "    </tr>\n",
       "  </tbody>\n",
       "</table>\n",
       "<p>5 rows × 48 columns</p>\n",
       "</div>"
      ],
      "text/plain": [
       "   date_record  cust_id idx_employee country_code sex  age date_first_holder  \\\n",
       "0            0  1375586            N           ES   H   35        2015-01-12   \n",
       "1            0  1050611            N           ES   V   23        2012-08-10   \n",
       "2            0  1050612            N           ES   V   23        2012-08-10   \n",
       "3            0  1050613            N           ES   H   22        2012-08-10   \n",
       "4            0  1050614            N           ES   V   23        2012-08-10   \n",
       "\n",
       "  idx_new_cust months_seniority  idx_primary        ...        p15_mortgage  \\\n",
       "0            0                6          1.0        ...                   0   \n",
       "1            0               35          1.0        ...                   0   \n",
       "2            0               35          1.0        ...                   0   \n",
       "3            0               35          1.0        ...                   0   \n",
       "4            0               35          1.0        ...                   0   \n",
       "\n",
       "  p16_pensions_plan p17_loans p18_taxes p19_credit_card p20_securities  \\\n",
       "0                 0         0         0               0              0   \n",
       "1                 0         0         0               0              0   \n",
       "2                 0         0         0               0              0   \n",
       "3                 0         0         0               0              0   \n",
       "4                 0         0         0               0              0   \n",
       "\n",
       "  p21_home_acct p22_payroll_appt  p23_pensions_appt  p24_direct_debit  \n",
       "0             0              0.0                0.0                 0  \n",
       "1             0              0.0                0.0                 0  \n",
       "2             0              0.0                0.0                 0  \n",
       "3             0              0.0                0.0                 0  \n",
       "4             0              0.0                0.0                 0  \n",
       "\n",
       "[5 rows x 48 columns]"
      ]
     },
     "execution_count": 17,
     "metadata": {},
     "output_type": "execute_result"
    }
   ],
   "source": [
    "df.head()"
   ]
  },
  {
   "cell_type": "code",
   "execution_count": 18,
   "metadata": {
    "collapsed": false
   },
   "outputs": [
    {
     "data": {
      "text/html": [
       "<div>\n",
       "<table border=\"1\" class=\"dataframe\">\n",
       "  <thead>\n",
       "    <tr style=\"text-align: right;\">\n",
       "      <th></th>\n",
       "      <th>date_record</th>\n",
       "      <th>cust_id</th>\n",
       "      <th>idx_employee</th>\n",
       "      <th>country_code</th>\n",
       "      <th>sex</th>\n",
       "      <th>age</th>\n",
       "      <th>date_first_holder</th>\n",
       "      <th>idx_new_cust</th>\n",
       "      <th>months_seniority</th>\n",
       "      <th>idx_primary</th>\n",
       "      <th>...</th>\n",
       "      <th>p15_mortgage</th>\n",
       "      <th>p16_pensions_plan</th>\n",
       "      <th>p17_loans</th>\n",
       "      <th>p18_taxes</th>\n",
       "      <th>p19_credit_card</th>\n",
       "      <th>p20_securities</th>\n",
       "      <th>p21_home_acct</th>\n",
       "      <th>p22_payroll_appt</th>\n",
       "      <th>p23_pensions_appt</th>\n",
       "      <th>p24_direct_debit</th>\n",
       "    </tr>\n",
       "  </thead>\n",
       "  <tbody>\n",
       "    <tr>\n",
       "      <th>13647304</th>\n",
       "      <td>16</td>\n",
       "      <td>1166765</td>\n",
       "      <td>N</td>\n",
       "      <td>ES</td>\n",
       "      <td>V</td>\n",
       "      <td>22</td>\n",
       "      <td>2013-08-14</td>\n",
       "      <td>0</td>\n",
       "      <td>33</td>\n",
       "      <td>1.0</td>\n",
       "      <td>...</td>\n",
       "      <td>0</td>\n",
       "      <td>0</td>\n",
       "      <td>0</td>\n",
       "      <td>0</td>\n",
       "      <td>0</td>\n",
       "      <td>0</td>\n",
       "      <td>0</td>\n",
       "      <td>0.0</td>\n",
       "      <td>0.0</td>\n",
       "      <td>0</td>\n",
       "    </tr>\n",
       "    <tr>\n",
       "      <th>13647305</th>\n",
       "      <td>16</td>\n",
       "      <td>1166764</td>\n",
       "      <td>N</td>\n",
       "      <td>ES</td>\n",
       "      <td>V</td>\n",
       "      <td>23</td>\n",
       "      <td>2013-08-14</td>\n",
       "      <td>0</td>\n",
       "      <td>33</td>\n",
       "      <td>1.0</td>\n",
       "      <td>...</td>\n",
       "      <td>0</td>\n",
       "      <td>0</td>\n",
       "      <td>0</td>\n",
       "      <td>0</td>\n",
       "      <td>0</td>\n",
       "      <td>0</td>\n",
       "      <td>0</td>\n",
       "      <td>0.0</td>\n",
       "      <td>0.0</td>\n",
       "      <td>0</td>\n",
       "    </tr>\n",
       "    <tr>\n",
       "      <th>13647306</th>\n",
       "      <td>16</td>\n",
       "      <td>1166763</td>\n",
       "      <td>N</td>\n",
       "      <td>ES</td>\n",
       "      <td>H</td>\n",
       "      <td>47</td>\n",
       "      <td>2013-08-14</td>\n",
       "      <td>0</td>\n",
       "      <td>33</td>\n",
       "      <td>1.0</td>\n",
       "      <td>...</td>\n",
       "      <td>0</td>\n",
       "      <td>0</td>\n",
       "      <td>0</td>\n",
       "      <td>0</td>\n",
       "      <td>0</td>\n",
       "      <td>0</td>\n",
       "      <td>0</td>\n",
       "      <td>0.0</td>\n",
       "      <td>0.0</td>\n",
       "      <td>0</td>\n",
       "    </tr>\n",
       "    <tr>\n",
       "      <th>13647307</th>\n",
       "      <td>16</td>\n",
       "      <td>1166789</td>\n",
       "      <td>N</td>\n",
       "      <td>ES</td>\n",
       "      <td>H</td>\n",
       "      <td>22</td>\n",
       "      <td>2013-08-14</td>\n",
       "      <td>0</td>\n",
       "      <td>33</td>\n",
       "      <td>1.0</td>\n",
       "      <td>...</td>\n",
       "      <td>0</td>\n",
       "      <td>0</td>\n",
       "      <td>0</td>\n",
       "      <td>0</td>\n",
       "      <td>0</td>\n",
       "      <td>0</td>\n",
       "      <td>0</td>\n",
       "      <td>0.0</td>\n",
       "      <td>0.0</td>\n",
       "      <td>0</td>\n",
       "    </tr>\n",
       "    <tr>\n",
       "      <th>13647308</th>\n",
       "      <td>16</td>\n",
       "      <td>1550586</td>\n",
       "      <td>N</td>\n",
       "      <td>ES</td>\n",
       "      <td>H</td>\n",
       "      <td>37</td>\n",
       "      <td>2016-05-13</td>\n",
       "      <td>1</td>\n",
       "      <td>0</td>\n",
       "      <td>1.0</td>\n",
       "      <td>...</td>\n",
       "      <td>0</td>\n",
       "      <td>0</td>\n",
       "      <td>0</td>\n",
       "      <td>0</td>\n",
       "      <td>0</td>\n",
       "      <td>0</td>\n",
       "      <td>0</td>\n",
       "      <td>0.0</td>\n",
       "      <td>0.0</td>\n",
       "      <td>0</td>\n",
       "    </tr>\n",
       "  </tbody>\n",
       "</table>\n",
       "<p>5 rows × 48 columns</p>\n",
       "</div>"
      ],
      "text/plain": [
       "          date_record  cust_id idx_employee country_code sex age  \\\n",
       "13647304           16  1166765            N           ES   V  22   \n",
       "13647305           16  1166764            N           ES   V  23   \n",
       "13647306           16  1166763            N           ES   H  47   \n",
       "13647307           16  1166789            N           ES   H  22   \n",
       "13647308           16  1550586            N           ES   H  37   \n",
       "\n",
       "         date_first_holder idx_new_cust months_seniority  idx_primary  \\\n",
       "13647304        2013-08-14            0               33          1.0   \n",
       "13647305        2013-08-14            0               33          1.0   \n",
       "13647306        2013-08-14            0               33          1.0   \n",
       "13647307        2013-08-14            0               33          1.0   \n",
       "13647308        2016-05-13            1                0          1.0   \n",
       "\n",
       "                ...        p15_mortgage p16_pensions_plan p17_loans p18_taxes  \\\n",
       "13647304        ...                   0                 0         0         0   \n",
       "13647305        ...                   0                 0         0         0   \n",
       "13647306        ...                   0                 0         0         0   \n",
       "13647307        ...                   0                 0         0         0   \n",
       "13647308        ...                   0                 0         0         0   \n",
       "\n",
       "         p19_credit_card p20_securities p21_home_acct p22_payroll_appt  \\\n",
       "13647304               0              0             0              0.0   \n",
       "13647305               0              0             0              0.0   \n",
       "13647306               0              0             0              0.0   \n",
       "13647307               0              0             0              0.0   \n",
       "13647308               0              0             0              0.0   \n",
       "\n",
       "          p23_pensions_appt  p24_direct_debit  \n",
       "13647304                0.0                 0  \n",
       "13647305                0.0                 0  \n",
       "13647306                0.0                 0  \n",
       "13647307                0.0                 0  \n",
       "13647308                0.0                 0  \n",
       "\n",
       "[5 rows x 48 columns]"
      ]
     },
     "execution_count": 18,
     "metadata": {},
     "output_type": "execute_result"
    }
   ],
   "source": [
    "df.tail()"
   ]
  },
  {
   "cell_type": "markdown",
   "metadata": {},
   "source": [
    "- Add a column \"month\" to indicate natural month number each year"
   ]
  },
  {
   "cell_type": "code",
   "execution_count": 19,
   "metadata": {
    "collapsed": true
   },
   "outputs": [],
   "source": [
    "df.loc[:,\"month\"] = (df.date_record)%12 + 1"
   ]
  },
  {
   "cell_type": "markdown",
   "metadata": {},
   "source": [
    "- initial clean up: remove space before/after strings"
   ]
  },
  {
   "cell_type": "code",
   "execution_count": 20,
   "metadata": {
    "collapsed": false
   },
   "outputs": [],
   "source": [
    "## clean string\n",
    "def clean_entry(x):\n",
    "    \"\"\"\n",
    "    normalize each entry into compact dtype\n",
    "    \"\"\"\n",
    "    if pd.isnull(x):\n",
    "        return None\n",
    "    res = str(x).strip()\n",
    "    if res == '':\n",
    "        return None\n",
    "    try:\n",
    "        res = str(int(float(res)))\n",
    "    except:\n",
    "        res = res.strip()\n",
    "    return res\n",
    "    "
   ]
  },
  {
   "cell_type": "code",
   "execution_count": 21,
   "metadata": {
    "collapsed": true
   },
   "outputs": [],
   "source": [
    "#df.loc[:, \"months_seniority\"] = df.loc[:, \"months_seniority\"].apply(lambda x: clean_entry(x, dtype = \"str\"))"
   ]
  },
  {
   "cell_type": "code",
   "execution_count": 22,
   "metadata": {
    "collapsed": false
   },
   "outputs": [],
   "source": [
    "#df.months_seniority.unique()"
   ]
  },
  {
   "cell_type": "code",
   "execution_count": 24,
   "metadata": {
    "collapsed": false
   },
   "outputs": [
    {
     "name": "stdout",
     "output_type": "stream",
     "text": [
      " processing:  age\n",
      "processing:  months_seniority\n",
      "processing:  p1_saving_acct\n",
      "processing:  p2_guarantees\n",
      "processing:  p3_cur_acct\n",
      "processing:  p4_deriv_acct\n",
      "processing:  p5_payroll_acct\n",
      "processing:  p6_junior_acct\n",
      "processing:  p7_mas_paticular_acct\n",
      "processing:  p8_particular_acct\n",
      "processing:  p9_particular_plus_acct\n",
      "processing:  p10_short_depo\n",
      "processing:  p11_medium_depo\n",
      "processing:  p12_long_depo\n",
      "processing:  p13_eacct\n",
      "processing:  p14_funds\n",
      "processing:  p15_mortgage\n",
      "processing:  p16_pensions_plan\n",
      "processing:  p17_loans\n",
      "processing:  p18_taxes\n",
      "processing:  p19_credit_card\n",
      "processing:  p20_securities\n",
      "processing:  p21_home_acct\n",
      "processing:  p22_payroll_appt\n",
      "processing:  p23_pensions_appt\n",
      "processing:  p24_direct_debit\n",
      "processing:  income\n",
      "processing:  idx_employee\n",
      "processing:  country_code\n",
      "processing:  sex\n",
      "processing:  date_first_holder\n",
      "processing:  idx_new_cust\n",
      "processing:  idx_primary\n",
      "processing:  date_last_primary\n",
      "processing:  type_cust\n",
      "processing:  type_cust_relation\n",
      "processing:  idx_same_country\n",
      "processing:  idx_foreigner\n",
      "processing:  idx_spouse\n",
      "processing:  channel\n",
      "processing:  idx_decease\n",
      "processing:  type_addr\n",
      "processing:  prov_code\n",
      "processing:  prov_name\n",
      "processing:  idx_active\n",
      "processing:  segmentation\n",
      "date_record [ 0  1  2  3  4  5  6  7  8  9 10 11 12 13 14 15 16]\n",
      "cust_id [1375586 1050611 1050612 ..., 1173729 1164094 1550586]\n",
      "idx_employee ['N' None 'A' 'B' 'F' 'S']\n",
      "country_code ['ES' None 'CA' 'CH' 'CL' 'IE' 'AT' 'NL' 'FR' 'GB' 'DE' 'DO' 'BE' 'AR' 'VE'\n",
      " 'US' 'MX' 'BR' 'IT' 'EC' 'PE' 'CO' 'HN' 'FI' 'SE' 'AL' 'PT' 'MZ' 'CN' 'TW'\n",
      " 'PL' 'IN' 'CR' 'NI' 'HK' 'AD' 'CZ' 'AE' 'MA' 'GR' 'PR' 'RO' 'IL' 'RU' 'GT'\n",
      " 'GA' 'NO' 'SN' 'MR' 'UA' 'BG' 'PY' 'EE' 'SV' 'ET' 'CM' 'SA' 'CI' 'QA' 'LU'\n",
      " 'PA' 'BA' 'BO' 'AU' 'BY' 'KE' 'SG' 'HR' 'MD' 'SK' 'TR' 'AO' 'CU' 'GQ' 'EG'\n",
      " 'ZA' 'DK' 'UY' 'GE' 'TH' 'DZ' 'LB' 'JP' 'NG' 'PK' 'TN' 'TG' 'KR' 'GH' 'RS'\n",
      " 'VN' 'PH' 'KW' 'NZ' 'MM' 'KH' 'GI' 'SL' 'GN' 'GW' 'OM' 'CG' 'LV' 'LT' 'ML'\n",
      " 'MK' 'HU' 'IS' 'LY' 'CF' 'GM' 'KZ' 'CD' 'BZ' 'ZW' 'DJ' 'JM' 'BM' 'MT']\n",
      "sex ['H' 'V' None]\n",
      "age ['35' '23' '22' '24' '65' '28' '25' '26' '53' '27' '32' '37' '31' '39' '63'\n",
      " '33' '55' '42' '58' '38' '50' '30' '45' '44' '36' '29' '60' '57' '67' '47'\n",
      " 'NA' '34' '48' '46' '54' '84' '15' '12' '8' '6' '83' '40' '77' '69' '52'\n",
      " '59' '43' '10' '9' '49' '41' '51' '78' '16' '11' '73' '62' '66' '17' '68'\n",
      " '82' '95' '96' '56' '61' '79' '72' '14' '19' '13' '86' '64' '20' '89' '71'\n",
      " '7' '70' '74' '21' '18' '75' '4' '80' '81' '5' '76' '92' '93' '85' '91'\n",
      " '87' '90' '94' '99' '98' '88' '97' '100' '101' '106' '103' '3' '2' '102'\n",
      " '104' '111' '107' '109' '105' '112' '115' '110' '116' '108' '113' '126'\n",
      " '117' '163' '127' '114' '164']\n",
      "date_first_holder ['2015-01-12' '2012-08-10' None ..., '2016-05-25' '2016-05-01' '2016-05-15']\n",
      "idx_new_cust ['0' None '1']\n",
      "months_seniority ['6' '35' '34' 'NA' '33' '31' '21' '16' '27' '9' '22' '13' '29' '8' '11'\n",
      " '10' '28' '24' '7' '25' '14' '26' '12' '23' '1' '18' '4' '3' '17' '32'\n",
      " '30' '20' '15' '19' '157' '36' '5' '40' '38' '37' '39' '0' '2' '47' '44'\n",
      " '42' '46' '45' '43' '41' '57' '48' '52' '49' '50' '56' '58' '51' '55' '54'\n",
      " '53' '59' '62' '61' '60' '63' '139' '165' '118' '164' '142' '94' '159'\n",
      " '143' '105' '151' '162' '137' '150' '128' '122' '156' '119' '160' '79'\n",
      " '95' '132' '161' '98' '127' '72' '155' '108' '163' '102' '148' '115' '146'\n",
      " '107' '81' '216' '135' '92' '121' '198' '134' '93' '140' '110' '120' '147'\n",
      " '116' '64' '77' '85' '99' '78' '100' '113' '154' '166' '133' '124' '141'\n",
      " '66' '117' '86' '193' '80' '144' '87' '126' '158' '101' '235' '88' '145'\n",
      " '103' '149' '109' '131' '97' '68' '84' '232' '125' '177' '112' '96' '69'\n",
      " '171' '167' '104' '76' '82' '152' '70' '138' '169' '65' '129' '190' '114'\n",
      " '111' '176' '153' '89' '136' '83' '123' '187' '106' '231' '189' '217'\n",
      " '172' '199' '173' '174' '209' '180' '178' '91' '168' '130' '225' '67' '73'\n",
      " '183' '74' '206' '71' '179' '184' '192' '90' '194' '182' '188' '213' '185'\n",
      " '195' '186' '207' '208' '75' '175' '201' '203' '212' '215' '170' '228'\n",
      " '214' '202' '196' '181' '211' '191' '205' '200' '227' '218' '219' '226'\n",
      " '224' '210' '242' '223' '237' '204' '233' '220' '222' '241' '197' '221'\n",
      " '229' '234' '240' '243' '230' '238' '246' '236' '244' '239' '245'\n",
      " '-999999' '247' '248' '249' '250' '251' '252' '253' '254' '255' '256']\n",
      "idx_primary ['1' None '99']\n",
      "date_last_primary [None '2015-07-02' '2015-07-23' '2015-07-06' '2015-07-30' '2015-07-20'\n",
      " '2015-07-08' '2015-07-22' '2015-07-17' '2015-07-09' '2015-07-03'\n",
      " '2015-07-29' '2015-07-13' '2015-07-21' '2015-07-27' '2015-07-14'\n",
      " '2015-07-01' '2015-07-24' '2015-07-15' '2015-07-16' '2015-07-28'\n",
      " '2015-07-07' '2015-07-10' '2015-08-21' '2015-08-19' '2015-08-25'\n",
      " '2015-08-14' '2015-08-24' '2015-08-17' '2015-08-18' '2015-08-10'\n",
      " '2015-08-13' '2015-08-27' '2015-08-03' '2015-08-06' '2015-08-20'\n",
      " '2015-08-26' '2015-08-28' '2015-08-05' '2015-08-11' '2015-08-07'\n",
      " '2015-08-04' '2015-08-12' '2015-09-17' '2015-09-01' '2015-09-18'\n",
      " '2015-09-03' '2015-09-02' '2015-09-14' '2015-09-16' '2015-09-29'\n",
      " '2015-09-28' '2015-09-09' '2015-09-22' '2015-09-08' '2015-09-11'\n",
      " '2015-09-21' '2015-09-04' '2015-09-25' '2015-09-07' '2015-09-10'\n",
      " '2015-09-23' '2015-09-24' '2015-09-15' '2015-10-08' '2015-10-07'\n",
      " '2015-10-13' '2015-10-26' '2015-10-29' '2015-10-05' '2015-10-28'\n",
      " '2015-10-09' '2015-10-22' '2015-10-20' '2015-10-15' '2015-10-06'\n",
      " '2015-10-01' '2015-10-21' '2015-10-16' '2015-10-27' '2015-10-19'\n",
      " '2015-10-23' '2015-10-02' '2015-10-14' '2015-11-23' '2015-11-24'\n",
      " '2015-11-12' '2015-11-04' '2015-11-13' '2015-11-25' '2015-11-19'\n",
      " '2015-11-20' '2015-11-03' '2015-11-16' '2015-11-17' '2015-11-11'\n",
      " '2015-11-27' '2015-11-18' '2015-11-10' '2015-11-26' '2015-11-02'\n",
      " '2015-11-05' '2015-11-06' '2015-11-09' '2015-12-21' '2015-12-18'\n",
      " '2015-12-28' '2015-12-24' '2015-12-04' '2015-12-29' '2015-12-16'\n",
      " '2015-12-11' '2015-12-30' '2015-12-15' '2015-12-01' '2015-12-09'\n",
      " '2015-12-10' '2015-12-17' '2015-12-02' '2015-12-14' '2015-12-03'\n",
      " '2015-12-22' '2015-12-23' '2015-12-07' '2016-01-08' '2016-01-14'\n",
      " '2016-01-13' '2016-01-28' '2016-01-05' '2016-01-19' '2016-01-12'\n",
      " '2016-01-18' '2016-01-21' '2016-01-22' '2016-01-07' '2016-01-20'\n",
      " '2016-01-26' '2016-01-15' '2016-01-27' '2016-01-25' '2016-01-11'\n",
      " '2016-01-04' '2016-02-23' '2016-02-19' '2016-02-18' '2016-02-26'\n",
      " '2016-02-12' '2016-02-24' '2016-02-09' '2016-02-08' '2016-02-11'\n",
      " '2016-02-05' '2016-02-04' '2016-02-03' '2016-02-15' '2016-02-22'\n",
      " '2016-02-10' '2016-02-16' '2016-02-01' '2016-02-17' '2016-02-02'\n",
      " '2016-02-25' '2016-03-07' '2016-03-29' '2016-03-10' '2016-03-18'\n",
      " '2016-03-14' '2016-03-22' '2016-03-08' '2016-03-21' '2016-03-30'\n",
      " '2016-03-01' '2016-03-23' '2016-03-02' '2016-03-24' '2016-03-03'\n",
      " '2016-03-09' '2016-03-11' '2016-03-04' '2016-03-16' '2016-03-28'\n",
      " '2016-03-15' '2016-03-17' '2016-04-22' '2016-04-01' '2016-04-06'\n",
      " '2016-04-12' '2016-04-05' '2016-04-15' '2016-04-13' '2016-04-19'\n",
      " '2016-04-04' '2016-04-18' '2016-04-26' '2016-04-11' '2016-04-25'\n",
      " '2016-04-27' '2016-04-08' '2016-04-07' '2016-04-21' '2016-04-28'\n",
      " '2016-04-20' '2016-04-14' '2016-05-23' '2016-05-05' '2016-05-17'\n",
      " '2016-05-19' '2016-05-12' '2016-05-06' '2016-05-03' '2016-05-20'\n",
      " '2016-05-02' '2016-05-16' '2016-05-18' '2016-05-04' '2016-05-13'\n",
      " '2016-05-24' '2016-05-27' '2016-05-10' '2016-05-30' '2016-05-25'\n",
      " '2016-05-11' '2016-05-09' '2016-05-26']\n",
      "type_cust ['1' None '3' '2' '4' 'P']\n",
      "type_cust_relation ['A' 'I' None 'P' 'R' 'N']\n",
      "idx_same_country ['S' None 'N']\n",
      "idx_foreigner ['N' 'S' None]\n",
      "idx_spouse [None 'N' 'S']\n",
      "channel ['KHL' 'KHE' 'KHD' 'KFA' 'KFC' 'KAT' None 'KAZ' 'RED' 'KHC' 'KHK' 'KGN'\n",
      " 'KHM' 'KHO' 'KDH' 'KEH' 'KAD' 'KBG' 'KGC' 'KHF' 'KFK' 'KHN' 'KHA' 'KAF'\n",
      " 'KGX' 'KFD' 'KAG' 'KFG' 'KAB' 'KCC' 'KAE' 'KAH' 'KAR' 'KFJ' 'KFL' 'KAI'\n",
      " 'KFU' 'KAQ' 'KFS' 'KAA' 'KFP' 'KAJ' 'KFN' 'KGV' 'KGY' 'KFF' 'KAP' 'KDE'\n",
      " 'KFV' '13' 'K00' 'KAK' 'KCK' 'KCL' 'KAY' 'KBU' 'KDR' 'KAC' 'KDT' 'KCG'\n",
      " 'KDO' 'KDY' 'KBQ' 'KDA' 'KBO' 'KCI' 'KEC' 'KBZ' 'KES' 'KDX' 'KAS' '7'\n",
      " 'KEU' 'KCA' 'KAL' 'KDC' 'KAW' 'KCS' 'KCB' 'KDU' 'KDQ' 'KCN' 'KCM' '4'\n",
      " 'KCH' 'KCD' 'KCE' 'KEV' 'KBL' 'KEA' 'KBH' 'KDV' 'KFT' 'KEY' 'KAO' 'KEJ'\n",
      " 'KEO' 'KEI' 'KEW' 'KDZ' 'KBV' 'KBR' 'KBF' 'KDP' 'KCO' 'KCF' 'KCV' 'KAM'\n",
      " 'KEZ' 'KBD' 'KAN' 'KBY' 'KCT' 'KDD' 'KBW' 'KCU' 'KBX' 'KDB' 'KBS' 'KBE'\n",
      " 'KCX' 'KBP' 'KBN' 'KEB' 'KDS' 'KEL' 'KDG' 'KDF' 'KEF' 'KCP' 'KDM' 'KBB'\n",
      " 'KDW' 'KBJ' 'KFI' 'KBM' 'KEG' 'KEN' 'KEQ' 'KAV' 'KFH' 'KFM' 'KAU' 'KED'\n",
      " 'KFR' 'KEK' 'KFB' 'KGW' 'KFE' 'KGU' 'KDI' 'KDN' 'KEE' 'KCR' 'KCQ' 'KEM'\n",
      " 'KCJ' 'KHQ' 'KDL' '25' 'KHP' 'KHR' 'KHS']\n",
      "idx_decease ['N' None 'S']\n",
      "type_addr ['1' None]\n",
      "prov_code ['29' '13' '50' '45' '24' '20' '10' '17' '49' '8' '37' '9' '22' '31' '5'\n",
      " '40' '27' '25' '28' '3' '42' '41' '39' '7' '47' '36' '46' '44' '15' '32'\n",
      " '23' '16' '48' '12' '26' '2' '6' '30' '11' None '4' '19' '34' '35' '14'\n",
      " '21' '18' '33' '38' '52' '43' '1' '51']\n",
      "prov_name ['MALAGA' 'CIUDAD REAL' 'ZARAGOZA' 'TOLEDO' 'LEON' 'GIPUZKOA' 'CACERES'\n",
      " 'GIRONA' 'ZAMORA' 'BARCELONA' 'SALAMANCA' 'BURGOS' 'HUESCA' 'NAVARRA'\n",
      " 'AVILA' 'SEGOVIA' 'LUGO' 'LERIDA' 'MADRID' 'ALICANTE' 'SORIA' 'SEVILLA'\n",
      " 'CANTABRIA' 'BALEARS, ILLES' 'VALLADOLID' 'PONTEVEDRA' 'VALENCIA' 'TERUEL'\n",
      " 'CORU\\xc3\\x91A, A' 'OURENSE' 'JAEN' 'CUENCA' 'BIZKAIA' 'CASTELLON'\n",
      " 'RIOJA, LA' 'ALBACETE' 'BADAJOZ' 'MURCIA' 'CADIZ' None 'ALMERIA'\n",
      " 'GUADALAJARA' 'PALENCIA' 'PALMAS, LAS' 'CORDOBA' 'HUELVA' 'GRANADA'\n",
      " 'ASTURIAS' 'SANTA CRUZ DE TENERIFE' 'MELILLA' 'TARRAGONA' 'ALAVA' 'CEUTA']\n",
      "idx_active ['1' '0' None]\n",
      "income ['87218' '35548' '122179' ..., '32029' '25247' '231022']\n",
      "segmentation ['02 - PARTICULARES' '03 - UNIVERSITARIO' None '01 - TOP']\n",
      "p1_saving_acct ['0' '1']\n",
      "p2_guarantees ['0' '1']\n",
      "p3_cur_acct ['1' '0']\n",
      "p4_deriv_acct ['0' '1']\n",
      "p5_payroll_acct ['0' '1']\n",
      "p6_junior_acct ['0' '1']\n",
      "p7_mas_paticular_acct ['0' '1']\n",
      "p8_particular_acct ['0' '1']\n",
      "p9_particular_plus_acct [0 1]\n",
      "p10_short_depo ['0' '1']\n",
      "p11_medium_depo ['0' '1']\n",
      "p12_long_depo ['0' '1']\n",
      "p13_eacct ['0' '1']\n",
      "p14_funds ['0' '1']\n",
      "p15_mortgage ['0' '1']\n",
      "p16_pensions_plan ['0' '1']\n",
      "p17_loans ['0' '1']\n",
      "p18_taxes ['0' '1']\n",
      "p19_credit_card ['0' '1']\n",
      "p20_securities ['0' '1']\n",
      "p21_home_acct ['0' '1']\n",
      "p22_payroll_appt ['0' '1' None]\n",
      "p23_pensions_appt ['0' '1' None]\n",
      "p24_direct_debit ['0' '1']\n",
      "month ['1' '2' '3' '4' '5' '6' '7' '8' '9' '10' '11' '12']\n"
     ]
    }
   ],
   "source": [
    "## clean each column of df\n",
    "cols_int = [\"age\", \"months_seniority\", \"p1_saving_acct\", \"p2_guarantees\", \"p3_cur_acct\", \"p4_deriv_acct\", \n",
    "\"p5_payroll_acct\", \"p6_junior_acct\", \"p7_mas_paticular_acct\", \"p8_particular_acct\", \"p9_particular_plus_acct\", \"p10_short_depo\", \n",
    "            \"p11_medium_depo\", \"p12_long_depo\", \"p13_eacct\", \"p14_funds\", \"p15_mortgage\", \"p16_pensions_plan\", \"p17_loans\", \n",
    "            \"p18_taxes\", \"p19_credit_card\", \"p20_securities\", \"p21_home_acct\", \"p22_payroll_appt\", \"p23_pensions_appt\", \"p24_direct_debit\"]\n",
    "cols_float = [\"income\"]\n",
    "cols_str = [\"idx_employee\", \"country_code\", \"sex\", \"date_first_holder\", \"idx_new_cust\", \"idx_primary\", \"date_last_primary\", \"type_cust\", \n",
    "\"type_cust_relation\", \"idx_same_country\", \"idx_foreigner\", \"idx_spouse\", \"channel\", \"idx_decease\", \"type_addr\", \"prov_code\", \"prov_name\", \n",
    "\"idx_active\", \"segmentation\"]\n",
    "\n",
    "for col in cols_int + cols_float + cols_str: \n",
    "    print \"processing: \", col\n",
    "    try:\n",
    "        df.loc[:, col] = df.loc[:, col].apply(lambda x: clean_entry(x))\n",
    "    except:\n",
    "        print \"error \", col, df.loc[:, col].unique()\n",
    "        \n",
    "for col in df.columns:\n",
    "    print col, df.loc[:, col].unique()\n"
   ]
  },
  {
   "cell_type": "code",
   "execution_count": 25,
   "metadata": {
    "collapsed": false
   },
   "outputs": [],
   "source": [
    "## post cleaning\n",
    "#### Age, product, months_seniority, income into integer\n",
    "def clean_int(x):\n",
    "    if pd.isnull(x):\n",
    "        res = None\n",
    "    elif x == \"NA\" or x == \"-999999\":\n",
    "        res = None\n",
    "    else:\n",
    "        try:\n",
    "            res = int(float(x))\n",
    "        except:\n",
    "            res = None\n",
    "    return res\n",
    "        "
   ]
  },
  {
   "cell_type": "code",
   "execution_count": 26,
   "metadata": {
    "collapsed": true
   },
   "outputs": [],
   "source": [
    "for col in [\"age\", \"months_seniority\", \"income\"]:    \n",
    "    df.loc[:, col] = df.loc[:, col].apply(lambda x: clean_int(x))"
   ]
  },
  {
   "cell_type": "markdown",
   "metadata": {},
   "source": [
    "- Convert numerical columns into numeric type"
   ]
  },
  {
   "cell_type": "code",
   "execution_count": 28,
   "metadata": {
    "collapsed": false
   },
   "outputs": [],
   "source": [
    "# age, months_seniority and income\n",
    "cols_numerical = [\"age\", \"months_seniority\", \"income\"]\n",
    "for col in cols_numerical:\n",
    "    df[col] = pd.to_numeric(df[col], errors = \"coerce\")\n"
   ]
  },
  {
   "cell_type": "markdown",
   "metadata": {},
   "source": [
    "#### Impute Missing Values\n",
    "- Check which columns contains missing values"
   ]
  },
  {
   "cell_type": "code",
   "execution_count": 33,
   "metadata": {
    "collapsed": false
   },
   "outputs": [
    {
     "name": "stdout",
     "output_type": "stream",
     "text": [
      "date_record 0\n",
      "cust_id 0\n",
      "idx_employee 27734\n",
      "country_code 27734\n",
      "sex 27804\n",
      "age 27734\n",
      "date_first_holder 27734\n",
      "idx_new_cust 27734\n",
      "months_seniority 27772\n",
      "idx_primary 27734\n",
      "date_last_primary 13622516\n",
      "type_cust 149781\n",
      "type_cust_relation 149781\n",
      "idx_same_country 27734\n",
      "idx_foreigner 27734\n",
      "idx_spouse 13645501\n",
      "channel 186126\n",
      "idx_decease 27734\n",
      "type_addr 27735\n",
      "prov_code 93591\n",
      "prov_name 93591\n",
      "idx_active 27734\n",
      "income 2794375\n",
      "segmentation 189368\n",
      "p1_saving_acct 0\n",
      "p2_guarantees 0\n",
      "p3_cur_acct 0\n",
      "p4_deriv_acct 0\n",
      "p5_payroll_acct 0\n",
      "p6_junior_acct 0\n",
      "p7_mas_paticular_acct 0\n",
      "p8_particular_acct 0\n",
      "p9_particular_plus_acct 0\n",
      "p10_short_depo 0\n",
      "p11_medium_depo 0\n",
      "p12_long_depo 0\n",
      "p13_eacct 0\n",
      "p14_funds 0\n",
      "p15_mortgage 0\n",
      "p16_pensions_plan 0\n",
      "p17_loans 0\n",
      "p18_taxes 0\n",
      "p19_credit_card 0\n",
      "p20_securities 0\n",
      "p21_home_acct 0\n",
      "p22_payroll_appt 16063\n",
      "p23_pensions_appt 16063\n",
      "p24_direct_debit 0\n",
      "month 0\n"
     ]
    }
   ],
   "source": [
    "for col in df.columns:\n",
    "    print col, df.loc[:, col].isnull().sum()"
   ]
  },
  {
   "cell_type": "markdown",
   "metadata": {},
   "source": [
    "- \"age\" filled with median and correct out-of-bound ages"
   ]
  },
  {
   "cell_type": "code",
   "execution_count": 34,
   "metadata": {
    "collapsed": false
   },
   "outputs": [
    {
     "data": {
      "text/plain": [
       "27734"
      ]
     },
     "execution_count": 34,
     "metadata": {},
     "output_type": "execute_result"
    }
   ],
   "source": [
    "df[\"age\"].isnull().sum()"
   ]
  },
  {
   "cell_type": "code",
   "execution_count": 35,
   "metadata": {
    "collapsed": true
   },
   "outputs": [],
   "source": [
    "df[\"age\"].fillna(df[\"age\"].median(), inplace=True)\n",
    "# if age < 0 or age > 200, correct it to closest bound\n",
    "df.loc[df.age < 0,\"age\"]  = 0\n",
    "df.loc[df.age > 200,\"age\"]  = 200"
   ]
  },
  {
   "cell_type": "code",
   "execution_count": 36,
   "metadata": {
    "collapsed": false
   },
   "outputs": [
    {
     "data": {
      "image/png": "[encoded data removed]",
      "text/plain": [
       "<matplotlib.figure.Figure at 0x7efb98506190>"
      ]
     },
     "metadata": {},
     "output_type": "display_data"
    }
   ],
   "source": [
    "## check age distribution\n",
    "with sns.plotting_context(\"notebook\",font_scale=1.5):\n",
    "    sns.set_style(\"whitegrid\")\n",
    "    sns.distplot(df[\"age\"].dropna(),\n",
    "                 bins=80,\n",
    "                 kde=False,\n",
    "                 color=\"tomato\")\n",
    "    sns.plt.title(\"Age Distribution\")\n",
    "    plt.ylabel(\"Count\")"
   ]
  },
  {
   "cell_type": "markdown",
   "metadata": {},
   "source": [
    "- \"idx_new_cust\" which indicates whether a customer is new or not"
   ]
  },
  {
   "cell_type": "code",
   "execution_count": 59,
   "metadata": {
    "collapsed": false
   },
   "outputs": [
    {
     "name": "stdout",
     "output_type": "stream",
     "text": [
      "0\n",
      "['0' '1']\n"
     ]
    }
   ],
   "source": [
    "print df[\"idx_new_cust\"].isnull().sum()\n",
    "print df[\"idx_new_cust\"].unique()"
   ]
  },
  {
   "cell_type": "code",
   "execution_count": 54,
   "metadata": {
    "collapsed": false
   },
   "outputs": [
    {
     "data": {
      "text/plain": [
       "Int64Index([    261,    1029,    1063,    1154,    1779,    1850,    1867,\n",
       "               1886,    1922,    2142,\n",
       "            ...\n",
       "            3774902, 3775205, 3775245, 3775860, 3775909, 3775976, 3776175,\n",
       "            3776230, 3776279, 3776332],\n",
       "           dtype='int64', length=27734)"
      ]
     },
     "execution_count": 54,
     "metadata": {},
     "output_type": "execute_result"
    }
   ],
   "source": [
    "df.index[df.loc[:, \"idx_new_cust\"].isnull()]"
   ]
  },
  {
   "cell_type": "code",
   "execution_count": 56,
   "metadata": {
    "collapsed": false
   },
   "outputs": [],
   "source": [
    "months_active_missing = df.loc[df.index[df.loc[:, \"idx_new_cust\"].isnull()], [\"idx_new_cust\", \"cust_id\"]].groupby(\"cust_id\", sort=False).size()\n",
    "months_active_0 = df.loc[df.index[df[\"idx_new_cust\"]=='0'],[\"idx_new_cust\", \"cust_id\"]].groupby(\"cust_id\", sort=False).size()\n",
    "months_active_1 = df.loc[df.index[df[\"idx_new_cust\"]=='1'],[\"idx_new_cust\", \"cust_id\"]].groupby(\"cust_id\", sort=False).size()"
   ]
  },
  {
   "cell_type": "code",
   "execution_count": 57,
   "metadata": {
    "collapsed": false
   },
   "outputs": [
    {
     "data": {
      "image/png": "[encoded data removed]",
      "text/plain": [
       "<matplotlib.figure.Figure at 0x7efba0423d50>"
      ]
     },
     "metadata": {},
     "output_type": "display_data"
    }
   ],
   "source": [
    "## visual which group is the missing group similar to? \n",
    "plt.hist(months_active_missing, alpha=0.5, normed=1, label='idx_new_cust missing')\n",
    "plt.hist(months_active_0, alpha=0.5, normed=1, label='idx_new_cust == 0')\n",
    "plt.hist(months_active_1, alpha=0.5, normed=1, label='idx_new_cust == 1')\n",
    "plt.legend(loc='upper right')\n",
    "plt.show()"
   ]
  },
  {
   "cell_type": "code",
   "execution_count": 58,
   "metadata": {
    "collapsed": true
   },
   "outputs": [],
   "source": [
    "## Therefore fill missing idx_new_cust with 1\n",
    "df.loc[df[\"idx_new_cust\"].isnull(),\"idx_new_cust\"] = '1'"
   ]
  },
  {
   "cell_type": "markdown",
   "metadata": {},
   "source": [
    "- months_seniority"
   ]
  },
  {
   "cell_type": "code",
   "execution_count": 62,
   "metadata": {
    "collapsed": false
   },
   "outputs": [
    {
     "name": "stdout",
     "output_type": "stream",
     "text": [
      "0\n",
      "[   6.   35.   34.    0.   33.   31.   21.   16.   27.    9.   22.   13.\n",
      "   29.    8.   11.   10.   28.   24.    7.   25.   14.   26.   12.   23.\n",
      "    1.   18.    4.    3.   17.   32.   30.   20.   15.   19.  157.   36.\n",
      "    5.   40.   38.   37.   39.    2.   47.   44.   42.   46.   45.   43.\n",
      "   41.   57.   48.   52.   49.   50.   56.   58.   51.   55.   54.   53.\n",
      "   59.   62.   61.   60.   63.  139.  165.  118.  164.  142.   94.  159.\n",
      "  143.  105.  151.  162.  137.  150.  128.  122.  156.  119.  160.   79.\n",
      "   95.  132.  161.   98.  127.   72.  155.  108.  163.  102.  148.  115.\n",
      "  146.  107.   81.  216.  135.   92.  121.  198.  134.   93.  140.  110.\n",
      "  120.  147.  116.   64.   77.   85.   99.   78.  100.  113.  154.  166.\n",
      "  133.  124.  141.   66.  117.   86.  193.   80.  144.   87.  126.  158.\n",
      "  101.  235.   88.  145.  103.  149.  109.  131.   97.   68.   84.  232.\n",
      "  125.  177.  112.   96.   69.  171.  167.  104.   76.   82.  152.   70.\n",
      "  138.  169.   65.  129.  190.  114.  111.  176.  153.   89.  136.   83.\n",
      "  123.  187.  106.  231.  189.  217.  172.  199.  173.  174.  209.  180.\n",
      "  178.   91.  168.  130.  225.   67.   73.  183.   74.  206.   71.  179.\n",
      "  184.  192.   90.  194.  182.  188.  213.  185.  195.  186.  207.  208.\n",
      "   75.  175.  201.  203.  212.  215.  170.  228.  214.  202.  196.  181.\n",
      "  211.  191.  205.  200.  227.  218.  219.  226.  224.  210.  242.  223.\n",
      "  237.  204.  233.  220.  222.  241.  197.  221.  229.  234.  240.  243.\n",
      "  230.  238.  246.  236.  244.  239.  245.  247.  248.  249.  250.  251.\n",
      "  252.  253.  254.  255.  256.]\n"
     ]
    }
   ],
   "source": [
    "print df[\"months_seniority\"].isnull().sum()\n",
    "print df[\"months_seniority\"].unique()"
   ]
  },
  {
   "cell_type": "code",
   "execution_count": 61,
   "metadata": {
    "collapsed": true
   },
   "outputs": [],
   "source": [
    "# fill min value to missing\n",
    "df.loc[df.months_seniority.isnull(),\"months_seniority\"] = df.months_seniority.min()"
   ]
  },
  {
   "cell_type": "markdown",
   "metadata": {},
   "source": [
    "- date_first_holder "
   ]
  },
  {
   "cell_type": "code",
   "execution_count": 65,
   "metadata": {
    "collapsed": false
   },
   "outputs": [
    {
     "name": "stdout",
     "output_type": "stream",
     "text": [
      "0\n",
      "['2015-01-12' '2012-08-10' '2011-09-06' ..., '2016-05-25' '2016-05-01'\n",
      " '2016-05-15']\n"
     ]
    }
   ],
   "source": [
    "print df[\"date_first_holder\"].isnull().sum()\n",
    "print df[\"date_first_holder\"].unique()"
   ]
  },
  {
   "cell_type": "code",
   "execution_count": 64,
   "metadata": {
    "collapsed": true
   },
   "outputs": [],
   "source": [
    "## fill with median as there is no other information\n",
    "dates=df.loc[:,\"date_first_holder\"].sort_values().reset_index()\n",
    "median_date = int(np.median(dates.index.values))\n",
    "df.loc[df.date_first_holder.isnull(),\"date_first_holder\"] = dates.loc[median_date,\"date_first_holder\"]"
   ]
  },
  {
   "cell_type": "markdown",
   "metadata": {},
   "source": [
    "- idx_primary"
   ]
  },
  {
   "cell_type": "code",
   "execution_count": 68,
   "metadata": {
    "collapsed": false
   },
   "outputs": [
    {
     "name": "stdout",
     "output_type": "stream",
     "text": [
      "0\n",
      "['1' '99']\n"
     ]
    }
   ],
   "source": [
    "print df[\"idx_primary\"].isnull().sum()\n",
    "print df[\"idx_primary\"].unique()"
   ]
  },
  {
   "cell_type": "code",
   "execution_count": 67,
   "metadata": {
    "collapsed": true
   },
   "outputs": [],
   "source": [
    "## fill missing with 1\n",
    "df.loc[df.idx_primary.isnull(),\"idx_primary\"] = '1'"
   ]
  },
  {
   "cell_type": "markdown",
   "metadata": {},
   "source": [
    "- drop type_addr and prov_code as they are useless\n",
    "- type_addr only contains one value and prov_name is used instead of prov_code"
   ]
  },
  {
   "cell_type": "code",
   "execution_count": 69,
   "metadata": {
    "collapsed": false
   },
   "outputs": [
    {
     "name": "stdout",
     "output_type": "stream",
     "text": [
      "27735\n",
      "['1' None]\n"
     ]
    }
   ],
   "source": [
    "print df[\"type_addr\"].isnull().sum()\n",
    "print df[\"type_addr\"].unique()"
   ]
  },
  {
   "cell_type": "code",
   "execution_count": 70,
   "metadata": {
    "collapsed": true
   },
   "outputs": [],
   "source": [
    "df.drop([\"type_addr\",\"prov_code\"],axis=1,inplace=True)"
   ]
  },
  {
   "cell_type": "markdown",
   "metadata": {},
   "source": [
    "- idx_active "
   ]
  },
  {
   "cell_type": "code",
   "execution_count": 71,
   "metadata": {
    "collapsed": false
   },
   "outputs": [
    {
     "name": "stdout",
     "output_type": "stream",
     "text": [
      "27734\n",
      "['1' '0' None]\n"
     ]
    }
   ],
   "source": [
    "print df[\"idx_active\"].isnull().sum()\n",
    "print df[\"idx_active\"].unique()"
   ]
  },
  {
   "cell_type": "code",
   "execution_count": 72,
   "metadata": {
    "collapsed": false
   },
   "outputs": [
    {
     "data": {
      "text/plain": [
       "0.0"
      ]
     },
     "execution_count": 72,
     "metadata": {},
     "output_type": "execute_result"
    }
   ],
   "source": [
    "df.loc[:, \"idx_active\"].apply(lambda x: int(x) if x != None else None).median()"
   ]
  },
  {
   "cell_type": "code",
   "execution_count": 73,
   "metadata": {
    "collapsed": true
   },
   "outputs": [],
   "source": [
    "## fill with median\n",
    "df.loc[df.idx_active.isnull(),\"idx_active\"] = '0'"
   ]
  },
  {
   "cell_type": "markdown",
   "metadata": {},
   "source": [
    "- prov_name "
   ]
  },
  {
   "cell_type": "code",
   "execution_count": 76,
   "metadata": {
    "collapsed": false
   },
   "outputs": [
    {
     "name": "stdout",
     "output_type": "stream",
     "text": [
      "0\n",
      "['MALAGA' 'CIUDAD REAL' 'ZARAGOZA' 'TOLEDO' 'LEON' 'GIPUZKOA' 'CACERES'\n",
      " 'GIRONA' 'ZAMORA' 'BARCELONA' 'SALAMANCA' 'BURGOS' 'HUESCA' 'NAVARRA'\n",
      " 'AVILA' 'SEGOVIA' 'LUGO' 'LERIDA' 'MADRID' 'ALICANTE' 'SORIA' 'SEVILLA'\n",
      " 'CANTABRIA' 'BALEARS, ILLES' 'VALLADOLID' 'PONTEVEDRA' 'VALENCIA' 'TERUEL'\n",
      " 'CORUNA, A' 'OURENSE' 'JAEN' 'CUENCA' 'BIZKAIA' 'CASTELLON' 'RIOJA, LA'\n",
      " 'ALBACETE' 'BADAJOZ' 'MURCIA' 'CADIZ' 'UNKNOWN' 'ALMERIA' 'GUADALAJARA'\n",
      " 'PALENCIA' 'PALMAS, LAS' 'CORDOBA' 'HUELVA' 'GRANADA' 'ASTURIAS'\n",
      " 'SANTA CRUZ DE TENERIFE' 'MELILLA' 'TARRAGONA' 'ALAVA' 'CEUTA']\n"
     ]
    }
   ],
   "source": [
    "print df[\"prov_name\"].isnull().sum()\n",
    "print df[\"prov_name\"].unique()"
   ]
  },
  {
   "cell_type": "code",
   "execution_count": 75,
   "metadata": {
    "collapsed": true
   },
   "outputs": [],
   "source": [
    "df.loc[df.prov_name==\"CORU\\xc3\\x91A, A\",\"prov_name\"] = \"CORUNA, A\" ## clean irregular expressions\n",
    "df.loc[df.prov_name.isnull(),\"prov_name\"] = \"UNKNOWN\""
   ]
  },
  {
   "cell_type": "markdown",
   "metadata": {},
   "source": [
    "- income "
   ]
  },
  {
   "cell_type": "code",
   "execution_count": 83,
   "metadata": {
    "collapsed": false
   },
   "outputs": [
    {
     "name": "stdout",
     "output_type": "stream",
     "text": [
      "0\n",
      "[  87218.   35548.  122179. ...,   32029.   25247.  231022.]\n"
     ]
    }
   ],
   "source": [
    "print df[\"income\"].isnull().sum()\n",
    "print df[\"income\"].unique()"
   ]
  },
  {
   "cell_type": "code",
   "execution_count": 78,
   "metadata": {
    "collapsed": false
   },
   "outputs": [
    {
     "data": {
      "image/png": "[encoded data removed]",
      "text/plain": [
       "<matplotlib.figure.Figure at 0x7efba037fd10>"
      ]
     },
     "metadata": {},
     "output_type": "display_data"
    }
   ],
   "source": [
    "## check income distribution across different provinces\n",
    "with sns.plotting_context(\"notebook\",font_scale=1.0):\n",
    "    sns.set_style(\"whitegrid\")\n",
    "    sns.boxplot(x=\"prov_name\", y=\"income\", \n",
    "                data=df.loc[df.prov_name.isin(['MALAGA','ZARAGOZA','SALAMANCA','CIUDAD REAL',\n",
    "                                                                  'NAVARRA','HUESCA','TOLEDO']), :], palette=\"PRGn\")\n",
    "    sns.plt.title(\"Income Distribution\")\n",
    "    plt.ylabel(\"Income\")    "
   ]
  },
  {
   "cell_type": "code",
   "execution_count": 79,
   "metadata": {
    "collapsed": false
   },
   "outputs": [
    {
     "data": {
      "text/plain": [
       "([<matplotlib.axis.YTick at 0x7efba0178210>,\n",
       "  <matplotlib.axis.YTick at 0x7efba015de90>,\n",
       "  <matplotlib.axis.YTick at 0x7efba02c12d0>,\n",
       "  <matplotlib.axis.YTick at 0x7efba00f0610>,\n",
       "  <matplotlib.axis.YTick at 0x7efba00f0d50>],\n",
       " <a list of 5 Text yticklabel objects>)"
      ]
     },
     "execution_count": 79,
     "metadata": {},
     "output_type": "execute_result"
    },
    {
     "data": {
      "image/png": "[encoded data removed]",
      "text/plain": [
       "<matplotlib.figure.Figure at 0x7efba04a1c10>"
      ]
     },
     "metadata": {},
     "output_type": "display_data"
    }
   ],
   "source": [
    "## Check the median income of each province\n",
    "incomes = df.loc[df.income.notnull(),:].groupby(\"prov_name\").agg({\"income\":{\"MedianIncome\":median}})\n",
    "incomes.sort_values(by=(\"income\",\"MedianIncome\"),inplace=True)\n",
    "incomes.reset_index(inplace=True)\n",
    "incomes.prov_name = incomes.prov_name.astype(\"category\", categories=[i for i in df.prov_name.unique()],ordered=False)\n",
    "#incomes.head()\n",
    "with sns.plotting_context(\"notebook\",font_scale=1.0):\n",
    "    h = sns.factorplot(data=incomes,\n",
    "       x=\"prov_name\",\n",
    "       y=(\"income\",\"MedianIncome\"),\n",
    "       order=(i for i in incomes.prov_name),\n",
    "       size=6,\n",
    "       aspect=1.5,\n",
    "       scale=1.0,\n",
    "       color=\"#c60b1e\",\n",
    "       linestyles=\"None\")\n",
    "plt.xticks(rotation=90)\n",
    "plt.tick_params(labelsize=16)#\n",
    "plt.ylabel(\"Median Income\",size=32)\n",
    "plt.xlabel(\"Province\",size=32)\n",
    "plt.title(\"Income Distribution by Province\",size=40)\n",
    "plt.ylim(0,180000)\n",
    "plt.yticks(range(0,180000,40000))\n"
   ]
  },
  {
   "cell_type": "code",
   "execution_count": 80,
   "metadata": {
    "collapsed": false
   },
   "outputs": [],
   "source": [
    "med = df.groupby(\"prov_name\")[\"income\"].transform(\"median\")\n",
    "df.loc[:,\"income\"] = df.loc[:,\"income\"].fillna(med)"
   ]
  },
  {
   "cell_type": "code",
   "execution_count": 81,
   "metadata": {
    "collapsed": false
   },
   "outputs": [
    {
     "data": {
      "text/plain": [
       "0     87218.0\n",
       "1     35548.0\n",
       "2    122179.0\n",
       "3    119775.0\n",
       "4     99950.0\n",
       "Name: income, dtype: float64"
      ]
     },
     "execution_count": 81,
     "metadata": {},
     "output_type": "execute_result"
    }
   ],
   "source": [
    "df[\"income\"].head()"
   ]
  },
  {
   "cell_type": "code",
   "execution_count": 82,
   "metadata": {
    "collapsed": false
   },
   "outputs": [
    {
     "name": "stdout",
     "output_type": "stream",
     "text": [
      "[]\n"
     ]
    }
   ],
   "source": [
    "## some income information are missing for entire province\n",
    "print df.loc[df.income.isnull(), \"prov_name\"].unique()"
   ]
  },
  {
   "cell_type": "code",
   "execution_count": 333,
   "metadata": {
    "collapsed": true
   },
   "outputs": [],
   "source": [
    "## we fill these income with global median\n",
    "df.loc[:,\"income\"] = df.loc[:,\"income\"].fillna(df.loc[:,\"income\"].median(skipna=True))"
   ]
  },
  {
   "cell_type": "markdown",
   "metadata": {},
   "source": [
    "- Missing Product purchase information"
   ]
  },
  {
   "cell_type": "code",
   "execution_count": 86,
   "metadata": {
    "collapsed": false
   },
   "outputs": [
    {
     "name": "stdout",
     "output_type": "stream",
     "text": [
      "0\n",
      "0    12885285\n",
      "1      745961\n",
      "0       16063\n",
      "Name: p22_payroll_appt, dtype: int64\n",
      "0\n",
      "0    12821161\n",
      "1      810085\n",
      "0       16063\n",
      "Name: p23_pensions_appt, dtype: int64\n"
     ]
    }
   ],
   "source": [
    "print df.loc[:, \"p22_payroll_appt\"].isnull().sum()\n",
    "print df.loc[:, \"p22_payroll_appt\"].value_counts()\n",
    "\n",
    "print df.loc[:, \"p23_pensions_appt\"].isnull().sum()\n",
    "print df.loc[:, \"p23_pensions_appt\"].value_counts()"
   ]
  },
  {
   "cell_type": "code",
   "execution_count": 85,
   "metadata": {
    "collapsed": true
   },
   "outputs": [],
   "source": [
    "## we will fill missing products with zero\n",
    "df.loc[df.p22_payroll_appt.isnull(), \"p22_payroll_appt\"] = 0\n",
    "df.loc[df.p23_pensions_appt.isnull(), \"p23_pensions_appt\"] = 0"
   ]
  },
  {
   "cell_type": "markdown",
   "metadata": {},
   "source": [
    "- The rest of cols with missing value"
   ]
  },
  {
   "cell_type": "code",
   "execution_count": 87,
   "metadata": {
    "collapsed": true
   },
   "outputs": [],
   "source": [
    "missing_columns = [col for col in df.columns if df[col].isnull().any()]"
   ]
  },
  {
   "cell_type": "code",
   "execution_count": 88,
   "metadata": {
    "collapsed": false
   },
   "outputs": [
    {
     "name": "stdout",
     "output_type": "stream",
     "text": [
      "Unique values for idx_employee:\n",
      "['N' None 'A' 'B' 'F' 'S']\n",
      "\n",
      "Unique values for country_code:\n",
      "['ES' None 'CA' 'CH' 'CL' 'IE' 'AT' 'NL' 'FR' 'GB' 'DE' 'DO' 'BE' 'AR' 'VE'\n",
      " 'US' 'MX' 'BR' 'IT' 'EC' 'PE' 'CO' 'HN' 'FI' 'SE' 'AL' 'PT' 'MZ' 'CN' 'TW'\n",
      " 'PL' 'IN' 'CR' 'NI' 'HK' 'AD' 'CZ' 'AE' 'MA' 'GR' 'PR' 'RO' 'IL' 'RU' 'GT'\n",
      " 'GA' 'NO' 'SN' 'MR' 'UA' 'BG' 'PY' 'EE' 'SV' 'ET' 'CM' 'SA' 'CI' 'QA' 'LU'\n",
      " 'PA' 'BA' 'BO' 'AU' 'BY' 'KE' 'SG' 'HR' 'MD' 'SK' 'TR' 'AO' 'CU' 'GQ' 'EG'\n",
      " 'ZA' 'DK' 'UY' 'GE' 'TH' 'DZ' 'LB' 'JP' 'NG' 'PK' 'TN' 'TG' 'KR' 'GH' 'RS'\n",
      " 'VN' 'PH' 'KW' 'NZ' 'MM' 'KH' 'GI' 'SL' 'GN' 'GW' 'OM' 'CG' 'LV' 'LT' 'ML'\n",
      " 'MK' 'HU' 'IS' 'LY' 'CF' 'GM' 'KZ' 'CD' 'BZ' 'ZW' 'DJ' 'JM' 'BM' 'MT']\n",
      "\n",
      "Unique values for sex:\n",
      "['H' 'V' None]\n",
      "\n",
      "Unique values for date_last_primary:\n",
      "[None '2015-07-02' '2015-07-23' '2015-07-06' '2015-07-30' '2015-07-20'\n",
      " '2015-07-08' '2015-07-22' '2015-07-17' '2015-07-09' '2015-07-03'\n",
      " '2015-07-29' '2015-07-13' '2015-07-21' '2015-07-27' '2015-07-14'\n",
      " '2015-07-01' '2015-07-24' '2015-07-15' '2015-07-16' '2015-07-28'\n",
      " '2015-07-07' '2015-07-10' '2015-08-21' '2015-08-19' '2015-08-25'\n",
      " '2015-08-14' '2015-08-24' '2015-08-17' '2015-08-18' '2015-08-10'\n",
      " '2015-08-13' '2015-08-27' '2015-08-03' '2015-08-06' '2015-08-20'\n",
      " '2015-08-26' '2015-08-28' '2015-08-05' '2015-08-11' '2015-08-07'\n",
      " '2015-08-04' '2015-08-12' '2015-09-17' '2015-09-01' '2015-09-18'\n",
      " '2015-09-03' '2015-09-02' '2015-09-14' '2015-09-16' '2015-09-29'\n",
      " '2015-09-28' '2015-09-09' '2015-09-22' '2015-09-08' '2015-09-11'\n",
      " '2015-09-21' '2015-09-04' '2015-09-25' '2015-09-07' '2015-09-10'\n",
      " '2015-09-23' '2015-09-24' '2015-09-15' '2015-10-08' '2015-10-07'\n",
      " '2015-10-13' '2015-10-26' '2015-10-29' '2015-10-05' '2015-10-28'\n",
      " '2015-10-09' '2015-10-22' '2015-10-20' '2015-10-15' '2015-10-06'\n",
      " '2015-10-01' '2015-10-21' '2015-10-16' '2015-10-27' '2015-10-19'\n",
      " '2015-10-23' '2015-10-02' '2015-10-14' '2015-11-23' '2015-11-24'\n",
      " '2015-11-12' '2015-11-04' '2015-11-13' '2015-11-25' '2015-11-19'\n",
      " '2015-11-20' '2015-11-03' '2015-11-16' '2015-11-17' '2015-11-11'\n",
      " '2015-11-27' '2015-11-18' '2015-11-10' '2015-11-26' '2015-11-02'\n",
      " '2015-11-05' '2015-11-06' '2015-11-09' '2015-12-21' '2015-12-18'\n",
      " '2015-12-28' '2015-12-24' '2015-12-04' '2015-12-29' '2015-12-16'\n",
      " '2015-12-11' '2015-12-30' '2015-12-15' '2015-12-01' '2015-12-09'\n",
      " '2015-12-10' '2015-12-17' '2015-12-02' '2015-12-14' '2015-12-03'\n",
      " '2015-12-22' '2015-12-23' '2015-12-07' '2016-01-08' '2016-01-14'\n",
      " '2016-01-13' '2016-01-28' '2016-01-05' '2016-01-19' '2016-01-12'\n",
      " '2016-01-18' '2016-01-21' '2016-01-22' '2016-01-07' '2016-01-20'\n",
      " '2016-01-26' '2016-01-15' '2016-01-27' '2016-01-25' '2016-01-11'\n",
      " '2016-01-04' '2016-02-23' '2016-02-19' '2016-02-18' '2016-02-26'\n",
      " '2016-02-12' '2016-02-24' '2016-02-09' '2016-02-08' '2016-02-11'\n",
      " '2016-02-05' '2016-02-04' '2016-02-03' '2016-02-15' '2016-02-22'\n",
      " '2016-02-10' '2016-02-16' '2016-02-01' '2016-02-17' '2016-02-02'\n",
      " '2016-02-25' '2016-03-07' '2016-03-29' '2016-03-10' '2016-03-18'\n",
      " '2016-03-14' '2016-03-22' '2016-03-08' '2016-03-21' '2016-03-30'\n",
      " '2016-03-01' '2016-03-23' '2016-03-02' '2016-03-24' '2016-03-03'\n",
      " '2016-03-09' '2016-03-11' '2016-03-04' '2016-03-16' '2016-03-28'\n",
      " '2016-03-15' '2016-03-17' '2016-04-22' '2016-04-01' '2016-04-06'\n",
      " '2016-04-12' '2016-04-05' '2016-04-15' '2016-04-13' '2016-04-19'\n",
      " '2016-04-04' '2016-04-18' '2016-04-26' '2016-04-11' '2016-04-25'\n",
      " '2016-04-27' '2016-04-08' '2016-04-07' '2016-04-21' '2016-04-28'\n",
      " '2016-04-20' '2016-04-14' '2016-05-23' '2016-05-05' '2016-05-17'\n",
      " '2016-05-19' '2016-05-12' '2016-05-06' '2016-05-03' '2016-05-20'\n",
      " '2016-05-02' '2016-05-16' '2016-05-18' '2016-05-04' '2016-05-13'\n",
      " '2016-05-24' '2016-05-27' '2016-05-10' '2016-05-30' '2016-05-25'\n",
      " '2016-05-11' '2016-05-09' '2016-05-26']\n",
      "\n",
      "Unique values for type_cust:\n",
      "['1' None '3' '2' '4' 'P']\n",
      "\n",
      "Unique values for type_cust_relation:\n",
      "['A' 'I' None 'P' 'R' 'N']\n",
      "\n",
      "Unique values for idx_same_country:\n",
      "['S' None 'N']\n",
      "\n",
      "Unique values for idx_foreigner:\n",
      "['N' 'S' None]\n",
      "\n",
      "Unique values for idx_spouse:\n",
      "[None 'N' 'S']\n",
      "\n",
      "Unique values for channel:\n",
      "['KHL' 'KHE' 'KHD' 'KFA' 'KFC' 'KAT' None 'KAZ' 'RED' 'KHC' 'KHK' 'KGN'\n",
      " 'KHM' 'KHO' 'KDH' 'KEH' 'KAD' 'KBG' 'KGC' 'KHF' 'KFK' 'KHN' 'KHA' 'KAF'\n",
      " 'KGX' 'KFD' 'KAG' 'KFG' 'KAB' 'KCC' 'KAE' 'KAH' 'KAR' 'KFJ' 'KFL' 'KAI'\n",
      " 'KFU' 'KAQ' 'KFS' 'KAA' 'KFP' 'KAJ' 'KFN' 'KGV' 'KGY' 'KFF' 'KAP' 'KDE'\n",
      " 'KFV' '13' 'K00' 'KAK' 'KCK' 'KCL' 'KAY' 'KBU' 'KDR' 'KAC' 'KDT' 'KCG'\n",
      " 'KDO' 'KDY' 'KBQ' 'KDA' 'KBO' 'KCI' 'KEC' 'KBZ' 'KES' 'KDX' 'KAS' '7'\n",
      " 'KEU' 'KCA' 'KAL' 'KDC' 'KAW' 'KCS' 'KCB' 'KDU' 'KDQ' 'KCN' 'KCM' '4'\n",
      " 'KCH' 'KCD' 'KCE' 'KEV' 'KBL' 'KEA' 'KBH' 'KDV' 'KFT' 'KEY' 'KAO' 'KEJ'\n",
      " 'KEO' 'KEI' 'KEW' 'KDZ' 'KBV' 'KBR' 'KBF' 'KDP' 'KCO' 'KCF' 'KCV' 'KAM'\n",
      " 'KEZ' 'KBD' 'KAN' 'KBY' 'KCT' 'KDD' 'KBW' 'KCU' 'KBX' 'KDB' 'KBS' 'KBE'\n",
      " 'KCX' 'KBP' 'KBN' 'KEB' 'KDS' 'KEL' 'KDG' 'KDF' 'KEF' 'KCP' 'KDM' 'KBB'\n",
      " 'KDW' 'KBJ' 'KFI' 'KBM' 'KEG' 'KEN' 'KEQ' 'KAV' 'KFH' 'KFM' 'KAU' 'KED'\n",
      " 'KFR' 'KEK' 'KFB' 'KGW' 'KFE' 'KGU' 'KDI' 'KDN' 'KEE' 'KCR' 'KCQ' 'KEM'\n",
      " 'KCJ' 'KHQ' 'KDL' '25' 'KHP' 'KHR' 'KHS']\n",
      "\n",
      "Unique values for idx_decease:\n",
      "['N' None 'S']\n",
      "\n",
      "Unique values for segmentation:\n",
      "['02 - PARTICULARES' '03 - UNIVERSITARIO' None '01 - TOP']\n",
      "\n"
     ]
    }
   ],
   "source": [
    "## unique values for missing cols\n",
    "for col in missing_columns:\n",
    "    print(\"Unique values for {0}:\\n{1}\\n\".format(col,df[col].unique()))"
   ]
  },
  {
   "cell_type": "code",
   "execution_count": 89,
   "metadata": {
    "collapsed": true
   },
   "outputs": [],
   "source": [
    "## Based on the meaning of each variable, fill some with most frequent terms and leave others to be \"UNKNOWN\"\n",
    "df.loc[df.idx_decease.isnull(),\"idx_decease\"] = \"N\"\n",
    "df.loc[df.type_cust_relation.isnull(),\"type_cust_relation\"] = \"A\"\n",
    "df.type_cust.fillna(\"P\",inplace=True)\n",
    "unknown_cols = [col for col in missing_columns if col not in [\"idx_decease\",\"type_cust_relation\",\"type_cust\"]]\n",
    "for col in unknown_cols:\n",
    "    df.loc[df[col].isnull(),col] = \"UNKNOWN\""
   ]
  },
  {
   "cell_type": "code",
   "execution_count": 90,
   "metadata": {
    "collapsed": false
   },
   "outputs": [
    {
     "name": "stdout",
     "output_type": "stream",
     "text": [
      "date_record 0\n",
      "cust_id 0\n",
      "idx_employee 0\n",
      "country_code 0\n",
      "sex 0\n",
      "age 0\n",
      "date_first_holder 0\n",
      "idx_new_cust 0\n",
      "months_seniority 0\n",
      "idx_primary 0\n",
      "date_last_primary 0\n",
      "type_cust 0\n",
      "type_cust_relation 0\n",
      "idx_same_country 0\n",
      "idx_foreigner 0\n",
      "idx_spouse 0\n",
      "channel 0\n",
      "idx_decease 0\n",
      "prov_name 0\n",
      "idx_active 0\n",
      "income 0\n",
      "segmentation 0\n",
      "p1_saving_acct 0\n",
      "p2_guarantees 0\n",
      "p3_cur_acct 0\n",
      "p4_deriv_acct 0\n",
      "p5_payroll_acct 0\n",
      "p6_junior_acct 0\n",
      "p7_mas_paticular_acct 0\n",
      "p8_particular_acct 0\n",
      "p9_particular_plus_acct 0\n",
      "p10_short_depo 0\n",
      "p11_medium_depo 0\n",
      "p12_long_depo 0\n",
      "p13_eacct 0\n",
      "p14_funds 0\n",
      "p15_mortgage 0\n",
      "p16_pensions_plan 0\n",
      "p17_loans 0\n",
      "p18_taxes 0\n",
      "p19_credit_card 0\n",
      "p20_securities 0\n",
      "p21_home_acct 0\n",
      "p22_payroll_appt 0\n",
      "p23_pensions_appt 0\n",
      "p24_direct_debit 0\n",
      "month 0\n"
     ]
    }
   ],
   "source": [
    "for col in df.columns:\n",
    "    print col, df.loc[:, col].isnull().sum()"
   ]
  },
  {
   "cell_type": "code",
   "execution_count": 91,
   "metadata": {
    "collapsed": false
   },
   "outputs": [],
   "source": [
    "df.to_csv(\"../input/train_full_clean.csv\", header = True, index = False)"
   ]
  },
  {
   "cell_type": "code",
   "execution_count": 93,
   "metadata": {
    "collapsed": false
   },
   "outputs": [],
   "source": [
    "df.to_sql(name='train_sample_clean', con=sq_conn, if_exists='replace', index=False, index_label=None)"
   ]
  }
 ],
 "metadata": {
  "kernelspec": {
   "display_name": "Python 2",
   "language": "python",
   "name": "python2"
  },
  "language_info": {
   "codemirror_mode": {
    "name": "ipython",
    "version": 2
   },
   "file_extension": ".py",
   "mimetype": "text/x-python",
   "name": "python",
   "nbconvert_exporter": "python",
   "pygments_lexer": "ipython2",
   "version": "2.7.13"
  }
 },
 "nbformat": 4,
 "nbformat_minor": 2
}
